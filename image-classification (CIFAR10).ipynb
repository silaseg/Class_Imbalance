{
 "cells": [
  {
   "cell_type": "markdown",
   "metadata": {},
   "source": [
    "## Librairies\n",
    "in this section we import all libraries we use in the next sections"
   ]
  },
  {
   "cell_type": "code",
   "execution_count": 1,
   "metadata": {},
   "outputs": [],
   "source": [
    "import cv2\n",
    "import os\n",
    "import matplotlib.pyplot as plt\n",
    "import numpy as np\n",
    "import struct\n",
    "import pandas as pd\n",
    "import scipy.stats as st\n",
    "from array import array as pyarray\n",
    "import pickle\n",
    "import itertools\n",
    "import math\n",
    "from sklearn.metrics import confusion_matrix as cmx\n",
    "import tarfile\n",
    "from urllib.request import urlretrieve\n",
    "from sklearn.preprocessing import OneHotEncoder\n",
    "import warnings\n",
    "warnings.filterwarnings('ignore')\n",
    "\n",
    "\n",
    "from sklearn.ensemble import RandomForestClassifier\n",
    "from sklearn.model_selection import cross_val_score\n",
    "from sklearn.multioutput import MultiOutputClassifier"
   ]
  },
  {
   "cell_type": "markdown",
   "metadata": {},
   "source": [
    "## All function\n",
    "in this section, we define all our function (like a utils file)"
   ]
  },
  {
   "cell_type": "code",
   "execution_count": 2,
   "metadata": {},
   "outputs": [],
   "source": [
    "def load_cifar10(filename):\n",
    "    \"\"\"This function is to load our data\n",
    "    params: filename  is the path of our dataset\n",
    "    type:  string \n",
    "    return: all_images, all_labels \n",
    "    type: np.arrays,  np.arrays\n",
    "    \"\"\"\n",
    "    batches = ['data_batch_1', 'data_batch_2', 'data_batch_3', 'data_batch_4', 'data_batch_5', 'test_batch']\n",
    "    \n",
    "    tar = tarfile.open(filename, \"r:gz\")\n",
    "    \n",
    "    tar_contents = [(file.name.split('/')[-1], file) for file in tar.getmembers()]\n",
    "    tar_contents = sorted(filter(lambda x: x[0] in batches, tar_contents), key=lambda x: x[0])\n",
    "    all_images = {}\n",
    "    all_labels = {}\n",
    "\n",
    "    for member in tar_contents:\n",
    "        f = tar.extractfile(member[1])\n",
    "        if f is not None:\n",
    "            content = pickle.load(f, encoding='bytes')\n",
    "            images, labels = convert_image_from_pack(content)\n",
    "            all_images[member[0]] = images\n",
    "            all_labels[member[0]] = labels\n",
    "    tar.close()\n",
    "    return all_images, all_labels\n",
    "\n",
    "def convert_image_from_pack(raw_data):\n",
    "    images = []\n",
    "    labels = []\n",
    "    \n",
    "    def get_image_format(data):\n",
    "        return np.array([[data[i], data[i + 1024], data[i + 2048]] for i in range(1024)])\n",
    "\n",
    "    for i in range(len(raw_data[b'data'])):\n",
    "        image_format = get_image_format(raw_data[b'data'][i])\n",
    "        label = raw_data[b'labels'][i]\n",
    "        #filepath = path + \"/\" + str(label) + \"/\" + raw_data['filenames'][i]\n",
    "        #saveImage(image_format, \"RGB\", (32, 32), filepath)\n",
    "        #logfile.write(filepath + \"\\t\" + str(label) + \"\\n\")\n",
    "        images += [image_format]\n",
    "        labels += [label]\n",
    "        \n",
    "    return np.array(images), labels\n",
    "\n",
    "\n",
    "\n",
    "def display(images, label, index, grayScaled=False, shape1=32, shape2=32):\n",
    "    if grayScaled : \n",
    "        plt.imshow(images[index].reshape(shape1, shape2, 1), cmap='gray')\n",
    "    else:\n",
    "        plt.imshow(images[index].reshape(shape1, shape2, 3))\n",
    "    plt.title(labels_dict[label[index]])\n",
    "    plt.show()\n",
    "    \n",
    "def balanced_subsample(x,y,subsample_size=1.0):\n",
    "\n",
    "    class_xs = []\n",
    "    min_elems = None\n",
    "\n",
    "    for yi in np.unique(y):\n",
    "        elems = x[(y == yi)]\n",
    "        class_xs.append((yi, elems))\n",
    "        if min_elems == None or elems.shape[0] < min_elems:\n",
    "            min_elems = elems.shape[0]\n",
    "\n",
    "    use_elems = min_elems\n",
    "    if subsample_size < 1:\n",
    "        use_elems = int(min_elems*subsample_size)\n",
    "\n",
    "    xs = []\n",
    "    ys = []\n",
    "\n",
    "    for ci,this_xs in class_xs:\n",
    "        if len(this_xs) > use_elems:\n",
    "            np.random.shuffle(this_xs)\n",
    "\n",
    "        x_ = this_xs[:use_elems]\n",
    "        y_ = np.empty(use_elems)\n",
    "        y_.fill(ci)\n",
    "\n",
    "        xs.append(x_)\n",
    "        ys.append(y_)\n",
    "\n",
    "    xs = np.concatenate(xs)\n",
    "    ys = np.concatenate(ys)\n",
    "\n",
    "    return xs,ys\n",
    "\n",
    "def plot_confusion_matrix(cm, names, title='Confusion matrix', cmap=plt.cm.Blues):\n",
    "    plt.imshow(cm, interpolation='nearest', cmap=cmap)\n",
    "    plt.title(title)\n",
    "    plt.colorbar()\n",
    "    tick_marks = np.arange(len(names))\n",
    "    plt.xticks(tick_marks, names, rotation=90)\n",
    "    plt.yticks(tick_marks, names)\n",
    "    fmt = '.2f' \n",
    "    thresh = cm.max() / 2.\n",
    "    for i, j in itertools.product(range(cm.shape[0]), range(cm.shape[1])):\n",
    "        plt.text(j, i, format(cm[i, j],fmt),\n",
    "                 horizontalalignment=\"center\",\n",
    "                 color=\"white\" if cm[i, j] > thresh else \"black\")\n",
    "            \n",
    "    plt.tight_layout()\n",
    "    plt.ylabel('True label')\n",
    "    plt.xlabel('Predicted label')"
   ]
  },
  {
   "cell_type": "markdown",
   "metadata": {},
   "source": [
    "## Dowload CIFAR10 dataset"
   ]
  },
  {
   "cell_type": "code",
   "execution_count": 3,
   "metadata": {},
   "outputs": [
    {
     "name": "stdout",
     "output_type": "stream",
     "text": [
      "dataset cifar is in /home/adlan/Music/university/paris8/nedra/dataset\n"
     ]
    }
   ],
   "source": [
    "dataset_url = 'https://www.cs.toronto.edu/~kriz/cifar-10-python.tar.gz'\n",
    "dataset_name = 'cifar-10-python.tar.gz'\n",
    "dataset_path = os.path.join(os.getcwd(), 'dataset')\n",
    "cifar_path =  os.path.join(dataset_path, dataset_name)\n",
    "urlretrieve(dataset_url, os.path.join(dataset_path, dataset_name))\n",
    "print(\"dataset cifar is in {}\".format(dataset_path))"
   ]
  },
  {
   "cell_type": "markdown",
   "metadata": {},
   "source": [
    "## load DATA \n",
    "#### Description : \n",
    "- There is 6 batch of images \n",
    "- we use 5 batch for training and 1 batch for testing "
   ]
  },
  {
   "cell_type": "code",
   "execution_count": 75,
   "metadata": {},
   "outputs": [],
   "source": [
    "images, labels = load_cifar10(cifar_path)"
   ]
  },
  {
   "cell_type": "code",
   "execution_count": 76,
   "metadata": {},
   "outputs": [
    {
     "name": "stdout",
     "output_type": "stream",
     "text": [
      "count test images is 10000\n",
      "count training images is 50000\n"
     ]
    }
   ],
   "source": [
    "print(\"count test images is {}\".format(len(images['test_batch'])))\n",
    "# count=0\n",
    "# count= [len(images['data_batch_{}'.format(i)]) for i in range(1,6)]\n",
    "# print(count)\n",
    "count_train_img = len(images['data_batch_1'])+ len(images['data_batch_2']) + len(images['data_batch_3'])+ len(images['data_batch_4']) +len(images['data_batch_5'])  \n",
    "print(\"count training images is {}\".format(count_train_img))"
   ]
  },
  {
   "cell_type": "code",
   "execution_count": 77,
   "metadata": {},
   "outputs": [],
   "source": [
    "X_train = np.concatenate([images['data_batch_1'], images['data_batch_1'], images['data_batch_3'],images['data_batch_4'], images['data_batch_5']])\n",
    "X_test = images['test_batch']\n",
    "\n",
    "y_train = np.concatenate([labels['data_batch_1'], labels['data_batch_1'], labels['data_batch_3'],labels['data_batch_4'], labels['data_batch_5']])\n",
    "y_test = labels['test_batch']\n",
    "\n",
    "labels_name = ['airplane', 'automobile', 'bird', 'cat', 'deer', 'dog', 'frog', 'horse', 'ship', 'truck']\n",
    "labels_dict = {key: value for key, value in enumerate(labels_name)}"
   ]
  },
  {
   "cell_type": "code",
   "execution_count": 79,
   "metadata": {},
   "outputs": [
    {
     "data": {
      "image/png": "[encoded data removed]",
      "text/plain": [
       "<Figure size 432x288 with 1 Axes>"
      ]
     },
     "metadata": {
      "needs_background": "light"
     },
     "output_type": "display_data"
    }
   ],
   "source": [
    "display(X_train, y_train, 7)"
   ]
  },
  {
   "cell_type": "markdown",
   "metadata": {},
   "source": [
    "# Processing data\n",
    "we convert our images from colored to grayscale"
   ]
  },
  {
   "cell_type": "code",
   "execution_count": 81,
   "metadata": {},
   "outputs": [],
   "source": [
    "X_train_gray = np.array([cv2.cvtColor(image.reshape(32, 32, 3), cv2.COLOR_BGR2GRAY) for image in X_train])\n",
    "X_test_gray = np.array([cv2.cvtColor(image.reshape(32, 32, 3), cv2.COLOR_BGR2GRAY) for image in X_test])"
   ]
  },
  {
   "cell_type": "markdown",
   "metadata": {},
   "source": [
    "### display result"
   ]
  },
  {
   "cell_type": "code",
   "execution_count": 82,
   "metadata": {},
   "outputs": [
    {
     "data": {
      "image/png": "[encoded data removed]",
      "text/plain": [
       "<Figure size 432x288 with 1 Axes>"
      ]
     },
     "metadata": {
      "needs_background": "light"
     },
     "output_type": "display_data"
    },
    {
     "data": {
      "image/png": "[encoded data removed]",
      "text/plain": [
       "<Figure size 432x288 with 1 Axes>"
      ]
     },
     "metadata": {
      "needs_background": "light"
     },
     "output_type": "display_data"
    }
   ],
   "source": [
    "display(X_train_gray, y_train, index= 1, grayScaled=True)\n",
    "display(X_train, y_train, index= 1, grayScaled=False)"
   ]
  },
  {
   "cell_type": "markdown",
   "metadata": {},
   "source": [
    "## data normalization \n",
    "- in this section we are going to normalize data (values between 0 and 1) by dividing all values by 255 "
   ]
  },
  {
   "cell_type": "code",
   "execution_count": 83,
   "metadata": {},
   "outputs": [],
   "source": [
    "X_train_gray_normalized = X_train_gray/255\n",
    "X_test_gray_normalized = X_test_gray/255"
   ]
  },
  {
   "cell_type": "code",
   "execution_count": 84,
   "metadata": {},
   "outputs": [
    {
     "data": {
      "image/png": "[encoded data removed]",
      "text/plain": [
       "<Figure size 432x288 with 1 Axes>"
      ]
     },
     "metadata": {
      "needs_background": "light"
     },
     "output_type": "display_data"
    },
    {
     "name": "stdout",
     "output_type": "stream",
     "text": [
      "[[0.69411765 0.52941176 0.39607843 ... 0.34117647 0.32941176 0.30196078]\n",
      " [0.62745098 0.59607843 0.48235294 ... 0.36078431 0.29019608 0.27058824]\n",
      " [0.61176471 0.57254902 0.44705882 ... 0.29803922 0.25490196 0.25490196]\n",
      " ...\n",
      " [0.65882353 0.61176471 0.63529412 ... 0.14117647 0.21568627 0.34117647]\n",
      " [0.57647059 0.57254902 0.60784314 ... 0.37254902 0.45882353 0.49019608]\n",
      " [0.55294118 0.55294118 0.58823529 ... 0.53333333 0.5372549  0.5372549 ]]\n"
     ]
    },
    {
     "data": {
      "image/png": "[encoded data removed]",
      "text/plain": [
       "<Figure size 432x288 with 1 Axes>"
      ]
     },
     "metadata": {
      "needs_background": "light"
     },
     "output_type": "display_data"
    },
    {
     "name": "stdout",
     "output_type": "stream",
     "text": [
      "[[177 135 101 ...  87  84  77]\n",
      " [160 152 123 ...  92  74  69]\n",
      " [156 146 114 ...  76  65  65]\n",
      " ...\n",
      " [168 156 162 ...  36  55  87]\n",
      " [147 146 155 ...  95 117 125]\n",
      " [141 141 150 ... 136 137 137]]\n"
     ]
    }
   ],
   "source": [
    "display(X_train_gray_normalized, y_train, index= 5, grayScaled=True)\n",
    "print(X_train_gray_normalized[1])\n",
    "display(X_train_gray, y_train, index= 5, grayScaled=True)\n",
    "print(X_train_gray[1])"
   ]
  },
  {
   "cell_type": "markdown",
   "metadata": {},
   "source": [
    "## distribusion of our data\n",
    "- we check  that our data is imbalanced\n",
    "- we balance our data "
   ]
  },
  {
   "cell_type": "code",
   "execution_count": 85,
   "metadata": {},
   "outputs": [
    {
     "data": {
      "text/html": [
       "<div>\n",
       "<style scoped>\n",
       "    .dataframe tbody tr th:only-of-type {\n",
       "        vertical-align: middle;\n",
       "    }\n",
       "\n",
       "    .dataframe tbody tr th {\n",
       "        vertical-align: top;\n",
       "    }\n",
       "\n",
       "    .dataframe thead th {\n",
       "        text-align: right;\n",
       "    }\n",
       "</style>\n",
       "<table border=\"1\" class=\"dataframe\">\n",
       "  <thead>\n",
       "    <tr style=\"text-align: right;\">\n",
       "      <th></th>\n",
       "      <th>class</th>\n",
       "      <th>number_of_images</th>\n",
       "    </tr>\n",
       "  </thead>\n",
       "  <tbody>\n",
       "    <tr>\n",
       "      <th>0</th>\n",
       "      <td>airplane</td>\n",
       "      <td>6021</td>\n",
       "    </tr>\n",
       "    <tr>\n",
       "      <th>1</th>\n",
       "      <td>automobile</td>\n",
       "      <td>5967</td>\n",
       "    </tr>\n",
       "    <tr>\n",
       "      <th>2</th>\n",
       "      <td>bird</td>\n",
       "      <td>6022</td>\n",
       "    </tr>\n",
       "    <tr>\n",
       "      <th>3</th>\n",
       "      <td>cat</td>\n",
       "      <td>6021</td>\n",
       "    </tr>\n",
       "    <tr>\n",
       "      <th>4</th>\n",
       "      <td>deer</td>\n",
       "      <td>5989</td>\n",
       "    </tr>\n",
       "    <tr>\n",
       "      <th>5</th>\n",
       "      <td>dog</td>\n",
       "      <td>5949</td>\n",
       "    </tr>\n",
       "    <tr>\n",
       "      <th>6</th>\n",
       "      <td>frog</td>\n",
       "      <td>6022</td>\n",
       "    </tr>\n",
       "    <tr>\n",
       "      <th>7</th>\n",
       "      <td>horse</td>\n",
       "      <td>5975</td>\n",
       "    </tr>\n",
       "    <tr>\n",
       "      <th>8</th>\n",
       "      <td>ship</td>\n",
       "      <td>6038</td>\n",
       "    </tr>\n",
       "    <tr>\n",
       "      <th>9</th>\n",
       "      <td>truck</td>\n",
       "      <td>5996</td>\n",
       "    </tr>\n",
       "  </tbody>\n",
       "</table>\n",
       "</div>"
      ],
      "text/plain": [
       "        class  number_of_images\n",
       "0    airplane              6021\n",
       "1  automobile              5967\n",
       "2        bird              6022\n",
       "3         cat              6021\n",
       "4        deer              5989\n",
       "5         dog              5949\n",
       "6        frog              6022\n",
       "7       horse              5975\n",
       "8        ship              6038\n",
       "9       truck              5996"
      ]
     },
     "execution_count": 85,
     "metadata": {},
     "output_type": "execute_result"
    }
   ],
   "source": [
    "count = []\n",
    "(unique, counts) = np.unique(np.concatenate((y_train, y_test), axis=0), return_counts=True)\n",
    "for i, v in zip(unique, counts):\n",
    "    count.append((labels_dict[i], v))\n",
    "    \n",
    "\n",
    "statistic = pd.DataFrame(count, columns=['class', 'number_of_images'])\n",
    "statistic"
   ]
  },
  {
   "cell_type": "code",
   "execution_count": 13,
   "metadata": {},
   "outputs": [
    {
     "data": {
      "text/plain": [
       "Text(0.5, 0, 'class')"
      ]
     },
     "execution_count": 13,
     "metadata": {},
     "output_type": "execute_result"
    },
    {
     "data": {
      "image/png": "[encoded data removed]",
      "text/plain": [
       "<Figure size 576x360 with 1 Axes>"
      ]
     },
     "metadata": {
      "needs_background": "light"
     },
     "output_type": "display_data"
    }
   ],
   "source": [
    "statistic.plot(x='class', y='number_of_images',color='red', kind='bar', legend=False, grid=True, figsize=(8, 5))\n",
    "plt.title(\"Number of images per class\")\n",
    "plt.ylabel('# of Occurrences', fontsize=12)\n",
    "plt.xlabel('class', fontsize=12)"
   ]
  },
  {
   "cell_type": "markdown",
   "metadata": {},
   "source": [
    "#### balancing our data"
   ]
  },
  {
   "cell_type": "code",
   "execution_count": 86,
   "metadata": {},
   "outputs": [
    {
     "data": {
      "text/plain": [
       "((10000, 32, 32), (49490, 32, 32))"
      ]
     },
     "execution_count": 86,
     "metadata": {},
     "output_type": "execute_result"
    }
   ],
   "source": [
    "X_train_gray_normalized ,y_train = balanced_subsample(X_train_gray_normalized,y_train,subsample_size=1.0)\n",
    "X_test_gray_normalized ,y_test = balanced_subsample(X_test_gray_normalized,y_test,subsample_size=1.0)\n",
    "X_test_gray_normalized.shape , X_train_gray_normalized.shape"
   ]
  },
  {
   "cell_type": "code",
   "execution_count": 87,
   "metadata": {},
   "outputs": [
    {
     "data": {
      "text/html": [
       "<div>\n",
       "<style scoped>\n",
       "    .dataframe tbody tr th:only-of-type {\n",
       "        vertical-align: middle;\n",
       "    }\n",
       "\n",
       "    .dataframe tbody tr th {\n",
       "        vertical-align: top;\n",
       "    }\n",
       "\n",
       "    .dataframe thead th {\n",
       "        text-align: right;\n",
       "    }\n",
       "</style>\n",
       "<table border=\"1\" class=\"dataframe\">\n",
       "  <thead>\n",
       "    <tr style=\"text-align: right;\">\n",
       "      <th></th>\n",
       "      <th>class</th>\n",
       "      <th>number_of_images</th>\n",
       "    </tr>\n",
       "  </thead>\n",
       "  <tbody>\n",
       "    <tr>\n",
       "      <th>0</th>\n",
       "      <td>airplane</td>\n",
       "      <td>5949</td>\n",
       "    </tr>\n",
       "    <tr>\n",
       "      <th>1</th>\n",
       "      <td>automobile</td>\n",
       "      <td>5949</td>\n",
       "    </tr>\n",
       "    <tr>\n",
       "      <th>2</th>\n",
       "      <td>bird</td>\n",
       "      <td>5949</td>\n",
       "    </tr>\n",
       "    <tr>\n",
       "      <th>3</th>\n",
       "      <td>cat</td>\n",
       "      <td>5949</td>\n",
       "    </tr>\n",
       "    <tr>\n",
       "      <th>4</th>\n",
       "      <td>deer</td>\n",
       "      <td>5949</td>\n",
       "    </tr>\n",
       "    <tr>\n",
       "      <th>5</th>\n",
       "      <td>dog</td>\n",
       "      <td>5949</td>\n",
       "    </tr>\n",
       "    <tr>\n",
       "      <th>6</th>\n",
       "      <td>frog</td>\n",
       "      <td>5949</td>\n",
       "    </tr>\n",
       "    <tr>\n",
       "      <th>7</th>\n",
       "      <td>horse</td>\n",
       "      <td>5949</td>\n",
       "    </tr>\n",
       "    <tr>\n",
       "      <th>8</th>\n",
       "      <td>ship</td>\n",
       "      <td>5949</td>\n",
       "    </tr>\n",
       "    <tr>\n",
       "      <th>9</th>\n",
       "      <td>truck</td>\n",
       "      <td>5949</td>\n",
       "    </tr>\n",
       "  </tbody>\n",
       "</table>\n",
       "</div>"
      ],
      "text/plain": [
       "        class  number_of_images\n",
       "0    airplane              5949\n",
       "1  automobile              5949\n",
       "2        bird              5949\n",
       "3         cat              5949\n",
       "4        deer              5949\n",
       "5         dog              5949\n",
       "6        frog              5949\n",
       "7       horse              5949\n",
       "8        ship              5949\n",
       "9       truck              5949"
      ]
     },
     "execution_count": 87,
     "metadata": {},
     "output_type": "execute_result"
    }
   ],
   "source": [
    "count = []\n",
    "(unique, counts) = np.unique(np.concatenate((y_train, y_test), axis=0), return_counts=True)\n",
    "for i, v in zip(unique, counts):\n",
    "    count.append((labels_dict[i], v))\n",
    "    \n",
    "\n",
    "statistic = pd.DataFrame(count, columns=['class', 'number_of_images'])\n",
    "statistic"
   ]
  },
  {
   "cell_type": "markdown",
   "metadata": {},
   "source": [
    "## Label Encoding "
   ]
  },
  {
   "cell_type": "code",
   "execution_count": 88,
   "metadata": {},
   "outputs": [
    {
     "data": {
      "text/plain": [
       "(array([0., 0., 0., ..., 9., 9., 9.]), 49490)"
      ]
     },
     "execution_count": 88,
     "metadata": {},
     "output_type": "execute_result"
    }
   ],
   "source": [
    "one_hot_encoder = OneHotEncoder(sparse=False)\n",
    "one_hot_encoder.fit(y_train.reshape(-1, 1))\n",
    "y_train[:] , len(y_train)"
   ]
  },
  {
   "cell_type": "code",
   "execution_count": 89,
   "metadata": {},
   "outputs": [
    {
     "data": {
      "text/plain": [
       "(numpy.ndarray, numpy.ndarray)"
      ]
     },
     "execution_count": 89,
     "metadata": {},
     "output_type": "execute_result"
    }
   ],
   "source": [
    "type(y_test), type(y_train)"
   ]
  },
  {
   "cell_type": "code",
   "execution_count": 150,
   "metadata": {},
   "outputs": [
    {
     "data": {
      "text/html": [
       "<div>\n",
       "<style scoped>\n",
       "    .dataframe tbody tr th:only-of-type {\n",
       "        vertical-align: middle;\n",
       "    }\n",
       "\n",
       "    .dataframe tbody tr th {\n",
       "        vertical-align: top;\n",
       "    }\n",
       "\n",
       "    .dataframe thead th {\n",
       "        text-align: right;\n",
       "    }\n",
       "</style>\n",
       "<table border=\"1\" class=\"dataframe\">\n",
       "  <thead>\n",
       "    <tr style=\"text-align: right;\">\n",
       "      <th></th>\n",
       "      <th>0</th>\n",
       "    </tr>\n",
       "  </thead>\n",
       "  <tbody>\n",
       "    <tr>\n",
       "      <th>0</th>\n",
       "      <td>0.0</td>\n",
       "    </tr>\n",
       "    <tr>\n",
       "      <th>1</th>\n",
       "      <td>0.0</td>\n",
       "    </tr>\n",
       "    <tr>\n",
       "      <th>2</th>\n",
       "      <td>0.0</td>\n",
       "    </tr>\n",
       "    <tr>\n",
       "      <th>3</th>\n",
       "      <td>0.0</td>\n",
       "    </tr>\n",
       "    <tr>\n",
       "      <th>4</th>\n",
       "      <td>0.0</td>\n",
       "    </tr>\n",
       "    <tr>\n",
       "      <th>...</th>\n",
       "      <td>...</td>\n",
       "    </tr>\n",
       "    <tr>\n",
       "      <th>49485</th>\n",
       "      <td>9.0</td>\n",
       "    </tr>\n",
       "    <tr>\n",
       "      <th>49486</th>\n",
       "      <td>9.0</td>\n",
       "    </tr>\n",
       "    <tr>\n",
       "      <th>49487</th>\n",
       "      <td>9.0</td>\n",
       "    </tr>\n",
       "    <tr>\n",
       "      <th>49488</th>\n",
       "      <td>9.0</td>\n",
       "    </tr>\n",
       "    <tr>\n",
       "      <th>49489</th>\n",
       "      <td>9.0</td>\n",
       "    </tr>\n",
       "  </tbody>\n",
       "</table>\n",
       "<p>49490 rows × 1 columns</p>\n",
       "</div>"
      ],
      "text/plain": [
       "         0\n",
       "0      0.0\n",
       "1      0.0\n",
       "2      0.0\n",
       "3      0.0\n",
       "4      0.0\n",
       "...    ...\n",
       "49485  9.0\n",
       "49486  9.0\n",
       "49487  9.0\n",
       "49488  9.0\n",
       "49489  9.0\n",
       "\n",
       "[49490 rows x 1 columns]"
      ]
     },
     "execution_count": 150,
     "metadata": {},
     "output_type": "execute_result"
    }
   ],
   "source": [
    "pd.DataFrame(y_train)"
   ]
  },
  {
   "cell_type": "code",
   "execution_count": 90,
   "metadata": {},
   "outputs": [],
   "source": [
    "y_train_encoded = one_hot_encoder.transform(y_train.reshape(-1, 1))\n",
    "y_test_encoded = one_hot_encoder.transform(np.array(y_test).reshape(-1, 1))"
   ]
  },
  {
   "cell_type": "code",
   "execution_count": 91,
   "metadata": {},
   "outputs": [
    {
     "data": {
      "text/plain": [
       "(49490, 49490, 10000, 10000)"
      ]
     },
     "execution_count": 91,
     "metadata": {},
     "output_type": "execute_result"
    }
   ],
   "source": [
    "len(X_train_gray_normalized), len(y_train_encoded), len(X_test_gray_normalized), len(y_test_encoded) "
   ]
  },
  {
   "cell_type": "code",
   "execution_count": 215,
   "metadata": {},
   "outputs": [
    {
     "data": {
      "text/plain": [
       "('shape after normilze gray image :', (50000, 32, 32, 1))"
      ]
     },
     "execution_count": 215,
     "metadata": {},
     "output_type": "execute_result"
    }
   ],
   "source": [
    "#X_train_gray_normalized_new = X_train_gray_normalized.reshape(X_train_gray_normalized.shape[0], X_train_gray_normalized.shape[1], X_train_gray_normalized.shape[2], 1)\n",
    "#X_test_gray_normalized_new = X_test_gray_normalized.reshape(X_test_gray_normalized.shape[0], X_test_gray_normalized.shape[1], X_test_gray_normalized.shape[2], 1)\n",
    "\n",
    "#\"shape after normilze gray image :\",X_train_gray_normalized_new.shape"
   ]
  },
  {
   "cell_type": "markdown",
   "metadata": {},
   "source": [
    "## Flatten (the last layer of CNN, to represent our image as a vector ==> features)"
   ]
  },
  {
   "cell_type": "code",
   "execution_count": 92,
   "metadata": {},
   "outputs": [
    {
     "data": {
      "text/plain": [
       "((49490, 32, 32), (49490, 1, 1024))"
      ]
     },
     "execution_count": 92,
     "metadata": {},
     "output_type": "execute_result"
    }
   ],
   "source": [
    "#1st way of flatten by using flatten method of numpy on the matrix\n",
    "X_train_gray_features = np.array([np.matrix(image).flatten() for image in X_train_gray_normalized])\n",
    "X_test_gray_features = np.array([np.matrix(image).flatten() for image in X_test_gray_normalized])\n",
    "X_train_gray_normalized.shape, X_train_gray_features.shape "
   ]
  },
  {
   "cell_type": "code",
   "execution_count": 93,
   "metadata": {},
   "outputs": [
    {
     "data": {
      "text/plain": [
       "((49490, 32, 32), (49490, 1024))"
      ]
     },
     "execution_count": 93,
     "metadata": {},
     "output_type": "execute_result"
    }
   ],
   "source": [
    "#2nd way of flatten by reshaping the matrix\n",
    "X_train_gray_features = np.array([np.reshape(image, (32*32)) for image in X_train_gray_normalized])\n",
    "X_test_gray_features = np.array([np.reshape(image, (32*32)) for image in X_test_gray_normalized])\n",
    "X_train_gray_normalized.shape, X_train_gray_features.shape "
   ]
  },
  {
   "cell_type": "code",
   "execution_count": 94,
   "metadata": {},
   "outputs": [
    {
     "data": {
      "text/plain": [
       "((10000, 1024), (10000, 1024), numpy.ndarray)"
      ]
     },
     "execution_count": 94,
     "metadata": {},
     "output_type": "execute_result"
    }
   ],
   "source": [
    "training_X = pd.DataFrame(data=X_train_gray_features)\n",
    "training_y= pd.DataFrame(data=y_train_encoded)\n",
    "\n",
    "testing_X = pd.DataFrame(X_test_gray_features)\n",
    "testing_y = pd.DataFrame(data=y_test_encoded)\n",
    "X_test_gray_features.shape , testing_X.shape , type(X_test_gray_features)"
   ]
  },
  {
   "cell_type": "markdown",
   "metadata": {},
   "source": [
    " ### Training data features"
   ]
  },
  {
   "cell_type": "code",
   "execution_count": 95,
   "metadata": {},
   "outputs": [
    {
     "data": {
      "text/html": [
       "<div>\n",
       "<style scoped>\n",
       "    .dataframe tbody tr th:only-of-type {\n",
       "        vertical-align: middle;\n",
       "    }\n",
       "\n",
       "    .dataframe tbody tr th {\n",
       "        vertical-align: top;\n",
       "    }\n",
       "\n",
       "    .dataframe thead th {\n",
       "        text-align: right;\n",
       "    }\n",
       "</style>\n",
       "<table border=\"1\" class=\"dataframe\">\n",
       "  <thead>\n",
       "    <tr style=\"text-align: right;\">\n",
       "      <th></th>\n",
       "      <th>0</th>\n",
       "      <th>1</th>\n",
       "      <th>2</th>\n",
       "      <th>3</th>\n",
       "      <th>4</th>\n",
       "      <th>5</th>\n",
       "      <th>6</th>\n",
       "      <th>7</th>\n",
       "      <th>8</th>\n",
       "      <th>9</th>\n",
       "      <th>...</th>\n",
       "      <th>1014</th>\n",
       "      <th>1015</th>\n",
       "      <th>1016</th>\n",
       "      <th>1017</th>\n",
       "      <th>1018</th>\n",
       "      <th>1019</th>\n",
       "      <th>1020</th>\n",
       "      <th>1021</th>\n",
       "      <th>1022</th>\n",
       "      <th>1023</th>\n",
       "    </tr>\n",
       "  </thead>\n",
       "  <tbody>\n",
       "    <tr>\n",
       "      <th>0</th>\n",
       "      <td>1.000000</td>\n",
       "      <td>0.996078</td>\n",
       "      <td>0.996078</td>\n",
       "      <td>0.996078</td>\n",
       "      <td>0.996078</td>\n",
       "      <td>0.996078</td>\n",
       "      <td>0.996078</td>\n",
       "      <td>0.996078</td>\n",
       "      <td>0.996078</td>\n",
       "      <td>0.996078</td>\n",
       "      <td>...</td>\n",
       "      <td>0.996078</td>\n",
       "      <td>0.996078</td>\n",
       "      <td>0.996078</td>\n",
       "      <td>0.996078</td>\n",
       "      <td>0.996078</td>\n",
       "      <td>0.996078</td>\n",
       "      <td>0.996078</td>\n",
       "      <td>0.996078</td>\n",
       "      <td>0.996078</td>\n",
       "      <td>1.000000</td>\n",
       "    </tr>\n",
       "    <tr>\n",
       "      <th>1</th>\n",
       "      <td>0.545098</td>\n",
       "      <td>0.541176</td>\n",
       "      <td>0.545098</td>\n",
       "      <td>0.552941</td>\n",
       "      <td>0.568627</td>\n",
       "      <td>0.580392</td>\n",
       "      <td>0.588235</td>\n",
       "      <td>0.588235</td>\n",
       "      <td>0.576471</td>\n",
       "      <td>0.560784</td>\n",
       "      <td>...</td>\n",
       "      <td>0.847059</td>\n",
       "      <td>0.819608</td>\n",
       "      <td>0.831373</td>\n",
       "      <td>0.874510</td>\n",
       "      <td>0.921569</td>\n",
       "      <td>0.949020</td>\n",
       "      <td>0.956863</td>\n",
       "      <td>0.937255</td>\n",
       "      <td>0.886275</td>\n",
       "      <td>0.831373</td>\n",
       "    </tr>\n",
       "    <tr>\n",
       "      <th>2</th>\n",
       "      <td>0.635294</td>\n",
       "      <td>0.584314</td>\n",
       "      <td>0.615686</td>\n",
       "      <td>0.678431</td>\n",
       "      <td>0.584314</td>\n",
       "      <td>0.525490</td>\n",
       "      <td>0.533333</td>\n",
       "      <td>0.556863</td>\n",
       "      <td>0.494118</td>\n",
       "      <td>0.494118</td>\n",
       "      <td>...</td>\n",
       "      <td>0.400000</td>\n",
       "      <td>0.403922</td>\n",
       "      <td>0.415686</td>\n",
       "      <td>0.474510</td>\n",
       "      <td>0.447059</td>\n",
       "      <td>0.450980</td>\n",
       "      <td>0.454902</td>\n",
       "      <td>0.521569</td>\n",
       "      <td>0.560784</td>\n",
       "      <td>0.568627</td>\n",
       "    </tr>\n",
       "    <tr>\n",
       "      <th>3</th>\n",
       "      <td>0.219608</td>\n",
       "      <td>0.227451</td>\n",
       "      <td>0.250980</td>\n",
       "      <td>0.278431</td>\n",
       "      <td>0.247059</td>\n",
       "      <td>0.258824</td>\n",
       "      <td>0.270588</td>\n",
       "      <td>0.270588</td>\n",
       "      <td>0.266667</td>\n",
       "      <td>0.258824</td>\n",
       "      <td>...</td>\n",
       "      <td>0.211765</td>\n",
       "      <td>0.203922</td>\n",
       "      <td>0.192157</td>\n",
       "      <td>0.215686</td>\n",
       "      <td>0.203922</td>\n",
       "      <td>0.184314</td>\n",
       "      <td>0.176471</td>\n",
       "      <td>0.168627</td>\n",
       "      <td>0.172549</td>\n",
       "      <td>0.168627</td>\n",
       "    </tr>\n",
       "    <tr>\n",
       "      <th>4</th>\n",
       "      <td>0.576471</td>\n",
       "      <td>0.600000</td>\n",
       "      <td>0.615686</td>\n",
       "      <td>0.619608</td>\n",
       "      <td>0.619608</td>\n",
       "      <td>0.619608</td>\n",
       "      <td>0.619608</td>\n",
       "      <td>0.627451</td>\n",
       "      <td>0.631373</td>\n",
       "      <td>0.643137</td>\n",
       "      <td>...</td>\n",
       "      <td>0.372549</td>\n",
       "      <td>0.376471</td>\n",
       "      <td>0.380392</td>\n",
       "      <td>0.368627</td>\n",
       "      <td>0.368627</td>\n",
       "      <td>0.396078</td>\n",
       "      <td>0.368627</td>\n",
       "      <td>0.337255</td>\n",
       "      <td>0.317647</td>\n",
       "      <td>0.329412</td>\n",
       "    </tr>\n",
       "    <tr>\n",
       "      <th>...</th>\n",
       "      <td>...</td>\n",
       "      <td>...</td>\n",
       "      <td>...</td>\n",
       "      <td>...</td>\n",
       "      <td>...</td>\n",
       "      <td>...</td>\n",
       "      <td>...</td>\n",
       "      <td>...</td>\n",
       "      <td>...</td>\n",
       "      <td>...</td>\n",
       "      <td>...</td>\n",
       "      <td>...</td>\n",
       "      <td>...</td>\n",
       "      <td>...</td>\n",
       "      <td>...</td>\n",
       "      <td>...</td>\n",
       "      <td>...</td>\n",
       "      <td>...</td>\n",
       "      <td>...</td>\n",
       "      <td>...</td>\n",
       "      <td>...</td>\n",
       "    </tr>\n",
       "    <tr>\n",
       "      <th>49485</th>\n",
       "      <td>0.541176</td>\n",
       "      <td>0.533333</td>\n",
       "      <td>0.533333</td>\n",
       "      <td>0.533333</td>\n",
       "      <td>0.537255</td>\n",
       "      <td>0.533333</td>\n",
       "      <td>0.517647</td>\n",
       "      <td>0.521569</td>\n",
       "      <td>0.541176</td>\n",
       "      <td>0.537255</td>\n",
       "      <td>...</td>\n",
       "      <td>0.435294</td>\n",
       "      <td>0.439216</td>\n",
       "      <td>0.486275</td>\n",
       "      <td>0.505882</td>\n",
       "      <td>0.521569</td>\n",
       "      <td>0.541176</td>\n",
       "      <td>0.552941</td>\n",
       "      <td>0.556863</td>\n",
       "      <td>0.521569</td>\n",
       "      <td>0.474510</td>\n",
       "    </tr>\n",
       "    <tr>\n",
       "      <th>49486</th>\n",
       "      <td>0.717647</td>\n",
       "      <td>0.729412</td>\n",
       "      <td>0.749020</td>\n",
       "      <td>0.760784</td>\n",
       "      <td>0.776471</td>\n",
       "      <td>0.784314</td>\n",
       "      <td>0.796078</td>\n",
       "      <td>0.800000</td>\n",
       "      <td>0.811765</td>\n",
       "      <td>0.815686</td>\n",
       "      <td>...</td>\n",
       "      <td>0.603922</td>\n",
       "      <td>0.603922</td>\n",
       "      <td>0.603922</td>\n",
       "      <td>0.623529</td>\n",
       "      <td>0.654902</td>\n",
       "      <td>0.654902</td>\n",
       "      <td>0.647059</td>\n",
       "      <td>0.658824</td>\n",
       "      <td>0.674510</td>\n",
       "      <td>0.686275</td>\n",
       "    </tr>\n",
       "    <tr>\n",
       "      <th>49487</th>\n",
       "      <td>0.376471</td>\n",
       "      <td>0.372549</td>\n",
       "      <td>0.372549</td>\n",
       "      <td>0.372549</td>\n",
       "      <td>0.372549</td>\n",
       "      <td>0.376471</td>\n",
       "      <td>0.380392</td>\n",
       "      <td>0.384314</td>\n",
       "      <td>0.392157</td>\n",
       "      <td>0.396078</td>\n",
       "      <td>...</td>\n",
       "      <td>0.321569</td>\n",
       "      <td>0.321569</td>\n",
       "      <td>0.325490</td>\n",
       "      <td>0.317647</td>\n",
       "      <td>0.321569</td>\n",
       "      <td>0.329412</td>\n",
       "      <td>0.337255</td>\n",
       "      <td>0.337255</td>\n",
       "      <td>0.337255</td>\n",
       "      <td>0.333333</td>\n",
       "    </tr>\n",
       "    <tr>\n",
       "      <th>49488</th>\n",
       "      <td>0.733333</td>\n",
       "      <td>0.725490</td>\n",
       "      <td>0.733333</td>\n",
       "      <td>0.749020</td>\n",
       "      <td>0.752941</td>\n",
       "      <td>0.690196</td>\n",
       "      <td>0.600000</td>\n",
       "      <td>0.580392</td>\n",
       "      <td>0.596078</td>\n",
       "      <td>0.631373</td>\n",
       "      <td>...</td>\n",
       "      <td>0.117647</td>\n",
       "      <td>0.133333</td>\n",
       "      <td>0.176471</td>\n",
       "      <td>0.227451</td>\n",
       "      <td>0.282353</td>\n",
       "      <td>0.333333</td>\n",
       "      <td>0.360784</td>\n",
       "      <td>0.372549</td>\n",
       "      <td>0.376471</td>\n",
       "      <td>0.380392</td>\n",
       "    </tr>\n",
       "    <tr>\n",
       "      <th>49489</th>\n",
       "      <td>0.560784</td>\n",
       "      <td>0.560784</td>\n",
       "      <td>0.568627</td>\n",
       "      <td>0.576471</td>\n",
       "      <td>0.588235</td>\n",
       "      <td>0.592157</td>\n",
       "      <td>0.596078</td>\n",
       "      <td>0.603922</td>\n",
       "      <td>0.607843</td>\n",
       "      <td>0.615686</td>\n",
       "      <td>...</td>\n",
       "      <td>0.745098</td>\n",
       "      <td>0.713725</td>\n",
       "      <td>0.686275</td>\n",
       "      <td>0.698039</td>\n",
       "      <td>0.705882</td>\n",
       "      <td>0.686275</td>\n",
       "      <td>0.694118</td>\n",
       "      <td>0.690196</td>\n",
       "      <td>0.662745</td>\n",
       "      <td>0.662745</td>\n",
       "    </tr>\n",
       "  </tbody>\n",
       "</table>\n",
       "<p>49490 rows × 1024 columns</p>\n",
       "</div>"
      ],
      "text/plain": [
       "           0         1         2         3         4         5         6     \\\n",
       "0      1.000000  0.996078  0.996078  0.996078  0.996078  0.996078  0.996078   \n",
       "1      0.545098  0.541176  0.545098  0.552941  0.568627  0.580392  0.588235   \n",
       "2      0.635294  0.584314  0.615686  0.678431  0.584314  0.525490  0.533333   \n",
       "3      0.219608  0.227451  0.250980  0.278431  0.247059  0.258824  0.270588   \n",
       "4      0.576471  0.600000  0.615686  0.619608  0.619608  0.619608  0.619608   \n",
       "...         ...       ...       ...       ...       ...       ...       ...   \n",
       "49485  0.541176  0.533333  0.533333  0.533333  0.537255  0.533333  0.517647   \n",
       "49486  0.717647  0.729412  0.749020  0.760784  0.776471  0.784314  0.796078   \n",
       "49487  0.376471  0.372549  0.372549  0.372549  0.372549  0.376471  0.380392   \n",
       "49488  0.733333  0.725490  0.733333  0.749020  0.752941  0.690196  0.600000   \n",
       "49489  0.560784  0.560784  0.568627  0.576471  0.588235  0.592157  0.596078   \n",
       "\n",
       "           7         8         9     ...      1014      1015      1016  \\\n",
       "0      0.996078  0.996078  0.996078  ...  0.996078  0.996078  0.996078   \n",
       "1      0.588235  0.576471  0.560784  ...  0.847059  0.819608  0.831373   \n",
       "2      0.556863  0.494118  0.494118  ...  0.400000  0.403922  0.415686   \n",
       "3      0.270588  0.266667  0.258824  ...  0.211765  0.203922  0.192157   \n",
       "4      0.627451  0.631373  0.643137  ...  0.372549  0.376471  0.380392   \n",
       "...         ...       ...       ...  ...       ...       ...       ...   \n",
       "49485  0.521569  0.541176  0.537255  ...  0.435294  0.439216  0.486275   \n",
       "49486  0.800000  0.811765  0.815686  ...  0.603922  0.603922  0.603922   \n",
       "49487  0.384314  0.392157  0.396078  ...  0.321569  0.321569  0.325490   \n",
       "49488  0.580392  0.596078  0.631373  ...  0.117647  0.133333  0.176471   \n",
       "49489  0.603922  0.607843  0.615686  ...  0.745098  0.713725  0.686275   \n",
       "\n",
       "           1017      1018      1019      1020      1021      1022      1023  \n",
       "0      0.996078  0.996078  0.996078  0.996078  0.996078  0.996078  1.000000  \n",
       "1      0.874510  0.921569  0.949020  0.956863  0.937255  0.886275  0.831373  \n",
       "2      0.474510  0.447059  0.450980  0.454902  0.521569  0.560784  0.568627  \n",
       "3      0.215686  0.203922  0.184314  0.176471  0.168627  0.172549  0.168627  \n",
       "4      0.368627  0.368627  0.396078  0.368627  0.337255  0.317647  0.329412  \n",
       "...         ...       ...       ...       ...       ...       ...       ...  \n",
       "49485  0.505882  0.521569  0.541176  0.552941  0.556863  0.521569  0.474510  \n",
       "49486  0.623529  0.654902  0.654902  0.647059  0.658824  0.674510  0.686275  \n",
       "49487  0.317647  0.321569  0.329412  0.337255  0.337255  0.337255  0.333333  \n",
       "49488  0.227451  0.282353  0.333333  0.360784  0.372549  0.376471  0.380392  \n",
       "49489  0.698039  0.705882  0.686275  0.694118  0.690196  0.662745  0.662745  \n",
       "\n",
       "[49490 rows x 1024 columns]"
      ]
     },
     "execution_count": 95,
     "metadata": {},
     "output_type": "execute_result"
    }
   ],
   "source": [
    "training_X"
   ]
  },
  {
   "cell_type": "markdown",
   "metadata": {},
   "source": [
    "### Training data labels"
   ]
  },
  {
   "cell_type": "code",
   "execution_count": 96,
   "metadata": {},
   "outputs": [
    {
     "data": {
      "text/html": [
       "<div>\n",
       "<style scoped>\n",
       "    .dataframe tbody tr th:only-of-type {\n",
       "        vertical-align: middle;\n",
       "    }\n",
       "\n",
       "    .dataframe tbody tr th {\n",
       "        vertical-align: top;\n",
       "    }\n",
       "\n",
       "    .dataframe thead th {\n",
       "        text-align: right;\n",
       "    }\n",
       "</style>\n",
       "<table border=\"1\" class=\"dataframe\">\n",
       "  <thead>\n",
       "    <tr style=\"text-align: right;\">\n",
       "      <th></th>\n",
       "      <th>0</th>\n",
       "      <th>1</th>\n",
       "      <th>2</th>\n",
       "      <th>3</th>\n",
       "      <th>4</th>\n",
       "      <th>5</th>\n",
       "      <th>6</th>\n",
       "      <th>7</th>\n",
       "      <th>8</th>\n",
       "      <th>9</th>\n",
       "    </tr>\n",
       "  </thead>\n",
       "  <tbody>\n",
       "    <tr>\n",
       "      <th>0</th>\n",
       "      <td>1.0</td>\n",
       "      <td>0.0</td>\n",
       "      <td>0.0</td>\n",
       "      <td>0.0</td>\n",
       "      <td>0.0</td>\n",
       "      <td>0.0</td>\n",
       "      <td>0.0</td>\n",
       "      <td>0.0</td>\n",
       "      <td>0.0</td>\n",
       "      <td>0.0</td>\n",
       "    </tr>\n",
       "    <tr>\n",
       "      <th>1</th>\n",
       "      <td>1.0</td>\n",
       "      <td>0.0</td>\n",
       "      <td>0.0</td>\n",
       "      <td>0.0</td>\n",
       "      <td>0.0</td>\n",
       "      <td>0.0</td>\n",
       "      <td>0.0</td>\n",
       "      <td>0.0</td>\n",
       "      <td>0.0</td>\n",
       "      <td>0.0</td>\n",
       "    </tr>\n",
       "    <tr>\n",
       "      <th>2</th>\n",
       "      <td>1.0</td>\n",
       "      <td>0.0</td>\n",
       "      <td>0.0</td>\n",
       "      <td>0.0</td>\n",
       "      <td>0.0</td>\n",
       "      <td>0.0</td>\n",
       "      <td>0.0</td>\n",
       "      <td>0.0</td>\n",
       "      <td>0.0</td>\n",
       "      <td>0.0</td>\n",
       "    </tr>\n",
       "    <tr>\n",
       "      <th>3</th>\n",
       "      <td>1.0</td>\n",
       "      <td>0.0</td>\n",
       "      <td>0.0</td>\n",
       "      <td>0.0</td>\n",
       "      <td>0.0</td>\n",
       "      <td>0.0</td>\n",
       "      <td>0.0</td>\n",
       "      <td>0.0</td>\n",
       "      <td>0.0</td>\n",
       "      <td>0.0</td>\n",
       "    </tr>\n",
       "    <tr>\n",
       "      <th>4</th>\n",
       "      <td>1.0</td>\n",
       "      <td>0.0</td>\n",
       "      <td>0.0</td>\n",
       "      <td>0.0</td>\n",
       "      <td>0.0</td>\n",
       "      <td>0.0</td>\n",
       "      <td>0.0</td>\n",
       "      <td>0.0</td>\n",
       "      <td>0.0</td>\n",
       "      <td>0.0</td>\n",
       "    </tr>\n",
       "    <tr>\n",
       "      <th>...</th>\n",
       "      <td>...</td>\n",
       "      <td>...</td>\n",
       "      <td>...</td>\n",
       "      <td>...</td>\n",
       "      <td>...</td>\n",
       "      <td>...</td>\n",
       "      <td>...</td>\n",
       "      <td>...</td>\n",
       "      <td>...</td>\n",
       "      <td>...</td>\n",
       "    </tr>\n",
       "    <tr>\n",
       "      <th>49485</th>\n",
       "      <td>0.0</td>\n",
       "      <td>0.0</td>\n",
       "      <td>0.0</td>\n",
       "      <td>0.0</td>\n",
       "      <td>0.0</td>\n",
       "      <td>0.0</td>\n",
       "      <td>0.0</td>\n",
       "      <td>0.0</td>\n",
       "      <td>0.0</td>\n",
       "      <td>1.0</td>\n",
       "    </tr>\n",
       "    <tr>\n",
       "      <th>49486</th>\n",
       "      <td>0.0</td>\n",
       "      <td>0.0</td>\n",
       "      <td>0.0</td>\n",
       "      <td>0.0</td>\n",
       "      <td>0.0</td>\n",
       "      <td>0.0</td>\n",
       "      <td>0.0</td>\n",
       "      <td>0.0</td>\n",
       "      <td>0.0</td>\n",
       "      <td>1.0</td>\n",
       "    </tr>\n",
       "    <tr>\n",
       "      <th>49487</th>\n",
       "      <td>0.0</td>\n",
       "      <td>0.0</td>\n",
       "      <td>0.0</td>\n",
       "      <td>0.0</td>\n",
       "      <td>0.0</td>\n",
       "      <td>0.0</td>\n",
       "      <td>0.0</td>\n",
       "      <td>0.0</td>\n",
       "      <td>0.0</td>\n",
       "      <td>1.0</td>\n",
       "    </tr>\n",
       "    <tr>\n",
       "      <th>49488</th>\n",
       "      <td>0.0</td>\n",
       "      <td>0.0</td>\n",
       "      <td>0.0</td>\n",
       "      <td>0.0</td>\n",
       "      <td>0.0</td>\n",
       "      <td>0.0</td>\n",
       "      <td>0.0</td>\n",
       "      <td>0.0</td>\n",
       "      <td>0.0</td>\n",
       "      <td>1.0</td>\n",
       "    </tr>\n",
       "    <tr>\n",
       "      <th>49489</th>\n",
       "      <td>0.0</td>\n",
       "      <td>0.0</td>\n",
       "      <td>0.0</td>\n",
       "      <td>0.0</td>\n",
       "      <td>0.0</td>\n",
       "      <td>0.0</td>\n",
       "      <td>0.0</td>\n",
       "      <td>0.0</td>\n",
       "      <td>0.0</td>\n",
       "      <td>1.0</td>\n",
       "    </tr>\n",
       "  </tbody>\n",
       "</table>\n",
       "<p>49490 rows × 10 columns</p>\n",
       "</div>"
      ],
      "text/plain": [
       "         0    1    2    3    4    5    6    7    8    9\n",
       "0      1.0  0.0  0.0  0.0  0.0  0.0  0.0  0.0  0.0  0.0\n",
       "1      1.0  0.0  0.0  0.0  0.0  0.0  0.0  0.0  0.0  0.0\n",
       "2      1.0  0.0  0.0  0.0  0.0  0.0  0.0  0.0  0.0  0.0\n",
       "3      1.0  0.0  0.0  0.0  0.0  0.0  0.0  0.0  0.0  0.0\n",
       "4      1.0  0.0  0.0  0.0  0.0  0.0  0.0  0.0  0.0  0.0\n",
       "...    ...  ...  ...  ...  ...  ...  ...  ...  ...  ...\n",
       "49485  0.0  0.0  0.0  0.0  0.0  0.0  0.0  0.0  0.0  1.0\n",
       "49486  0.0  0.0  0.0  0.0  0.0  0.0  0.0  0.0  0.0  1.0\n",
       "49487  0.0  0.0  0.0  0.0  0.0  0.0  0.0  0.0  0.0  1.0\n",
       "49488  0.0  0.0  0.0  0.0  0.0  0.0  0.0  0.0  0.0  1.0\n",
       "49489  0.0  0.0  0.0  0.0  0.0  0.0  0.0  0.0  0.0  1.0\n",
       "\n",
       "[49490 rows x 10 columns]"
      ]
     },
     "execution_count": 96,
     "metadata": {},
     "output_type": "execute_result"
    }
   ],
   "source": [
    "training_y"
   ]
  },
  {
   "cell_type": "markdown",
   "metadata": {},
   "source": [
    "## Machine LEARNING"
   ]
  },
  {
   "cell_type": "code",
   "execution_count": 97,
   "metadata": {},
   "outputs": [],
   "source": [
    "from sklearn.model_selection import train_test_split\n",
    "X_train_, X_test_, y_train_, y_test_ = train_test_split(training_X, training_y, test_size=0.3, shuffle=True, random_state=42)"
   ]
  },
  {
   "cell_type": "code",
   "execution_count": 98,
   "metadata": {},
   "outputs": [
    {
     "data": {
      "text/html": [
       "<div>\n",
       "<style scoped>\n",
       "    .dataframe tbody tr th:only-of-type {\n",
       "        vertical-align: middle;\n",
       "    }\n",
       "\n",
       "    .dataframe tbody tr th {\n",
       "        vertical-align: top;\n",
       "    }\n",
       "\n",
       "    .dataframe thead th {\n",
       "        text-align: right;\n",
       "    }\n",
       "</style>\n",
       "<table border=\"1\" class=\"dataframe\">\n",
       "  <thead>\n",
       "    <tr style=\"text-align: right;\">\n",
       "      <th></th>\n",
       "      <th>0</th>\n",
       "      <th>1</th>\n",
       "      <th>2</th>\n",
       "      <th>3</th>\n",
       "      <th>4</th>\n",
       "      <th>5</th>\n",
       "      <th>6</th>\n",
       "      <th>7</th>\n",
       "      <th>8</th>\n",
       "      <th>9</th>\n",
       "    </tr>\n",
       "  </thead>\n",
       "  <tbody>\n",
       "    <tr>\n",
       "      <th>23001</th>\n",
       "      <td>0.0</td>\n",
       "      <td>0.0</td>\n",
       "      <td>0.0</td>\n",
       "      <td>0.0</td>\n",
       "      <td>1.0</td>\n",
       "      <td>0.0</td>\n",
       "      <td>0.0</td>\n",
       "      <td>0.0</td>\n",
       "      <td>0.0</td>\n",
       "      <td>0.0</td>\n",
       "    </tr>\n",
       "    <tr>\n",
       "      <th>26257</th>\n",
       "      <td>0.0</td>\n",
       "      <td>0.0</td>\n",
       "      <td>0.0</td>\n",
       "      <td>0.0</td>\n",
       "      <td>0.0</td>\n",
       "      <td>1.0</td>\n",
       "      <td>0.0</td>\n",
       "      <td>0.0</td>\n",
       "      <td>0.0</td>\n",
       "      <td>0.0</td>\n",
       "    </tr>\n",
       "    <tr>\n",
       "      <th>11786</th>\n",
       "      <td>0.0</td>\n",
       "      <td>0.0</td>\n",
       "      <td>1.0</td>\n",
       "      <td>0.0</td>\n",
       "      <td>0.0</td>\n",
       "      <td>0.0</td>\n",
       "      <td>0.0</td>\n",
       "      <td>0.0</td>\n",
       "      <td>0.0</td>\n",
       "      <td>0.0</td>\n",
       "    </tr>\n",
       "    <tr>\n",
       "      <th>7154</th>\n",
       "      <td>0.0</td>\n",
       "      <td>1.0</td>\n",
       "      <td>0.0</td>\n",
       "      <td>0.0</td>\n",
       "      <td>0.0</td>\n",
       "      <td>0.0</td>\n",
       "      <td>0.0</td>\n",
       "      <td>0.0</td>\n",
       "      <td>0.0</td>\n",
       "      <td>0.0</td>\n",
       "    </tr>\n",
       "    <tr>\n",
       "      <th>26517</th>\n",
       "      <td>0.0</td>\n",
       "      <td>0.0</td>\n",
       "      <td>0.0</td>\n",
       "      <td>0.0</td>\n",
       "      <td>0.0</td>\n",
       "      <td>1.0</td>\n",
       "      <td>0.0</td>\n",
       "      <td>0.0</td>\n",
       "      <td>0.0</td>\n",
       "      <td>0.0</td>\n",
       "    </tr>\n",
       "    <tr>\n",
       "      <th>...</th>\n",
       "      <td>...</td>\n",
       "      <td>...</td>\n",
       "      <td>...</td>\n",
       "      <td>...</td>\n",
       "      <td>...</td>\n",
       "      <td>...</td>\n",
       "      <td>...</td>\n",
       "      <td>...</td>\n",
       "      <td>...</td>\n",
       "      <td>...</td>\n",
       "    </tr>\n",
       "    <tr>\n",
       "      <th>11284</th>\n",
       "      <td>0.0</td>\n",
       "      <td>0.0</td>\n",
       "      <td>1.0</td>\n",
       "      <td>0.0</td>\n",
       "      <td>0.0</td>\n",
       "      <td>0.0</td>\n",
       "      <td>0.0</td>\n",
       "      <td>0.0</td>\n",
       "      <td>0.0</td>\n",
       "      <td>0.0</td>\n",
       "    </tr>\n",
       "    <tr>\n",
       "      <th>44732</th>\n",
       "      <td>0.0</td>\n",
       "      <td>0.0</td>\n",
       "      <td>0.0</td>\n",
       "      <td>0.0</td>\n",
       "      <td>0.0</td>\n",
       "      <td>0.0</td>\n",
       "      <td>0.0</td>\n",
       "      <td>0.0</td>\n",
       "      <td>0.0</td>\n",
       "      <td>1.0</td>\n",
       "    </tr>\n",
       "    <tr>\n",
       "      <th>38158</th>\n",
       "      <td>0.0</td>\n",
       "      <td>0.0</td>\n",
       "      <td>0.0</td>\n",
       "      <td>0.0</td>\n",
       "      <td>0.0</td>\n",
       "      <td>0.0</td>\n",
       "      <td>0.0</td>\n",
       "      <td>1.0</td>\n",
       "      <td>0.0</td>\n",
       "      <td>0.0</td>\n",
       "    </tr>\n",
       "    <tr>\n",
       "      <th>860</th>\n",
       "      <td>1.0</td>\n",
       "      <td>0.0</td>\n",
       "      <td>0.0</td>\n",
       "      <td>0.0</td>\n",
       "      <td>0.0</td>\n",
       "      <td>0.0</td>\n",
       "      <td>0.0</td>\n",
       "      <td>0.0</td>\n",
       "      <td>0.0</td>\n",
       "      <td>0.0</td>\n",
       "    </tr>\n",
       "    <tr>\n",
       "      <th>15795</th>\n",
       "      <td>0.0</td>\n",
       "      <td>0.0</td>\n",
       "      <td>0.0</td>\n",
       "      <td>1.0</td>\n",
       "      <td>0.0</td>\n",
       "      <td>0.0</td>\n",
       "      <td>0.0</td>\n",
       "      <td>0.0</td>\n",
       "      <td>0.0</td>\n",
       "      <td>0.0</td>\n",
       "    </tr>\n",
       "  </tbody>\n",
       "</table>\n",
       "<p>34643 rows × 10 columns</p>\n",
       "</div>"
      ],
      "text/plain": [
       "         0    1    2    3    4    5    6    7    8    9\n",
       "23001  0.0  0.0  0.0  0.0  1.0  0.0  0.0  0.0  0.0  0.0\n",
       "26257  0.0  0.0  0.0  0.0  0.0  1.0  0.0  0.0  0.0  0.0\n",
       "11786  0.0  0.0  1.0  0.0  0.0  0.0  0.0  0.0  0.0  0.0\n",
       "7154   0.0  1.0  0.0  0.0  0.0  0.0  0.0  0.0  0.0  0.0\n",
       "26517  0.0  0.0  0.0  0.0  0.0  1.0  0.0  0.0  0.0  0.0\n",
       "...    ...  ...  ...  ...  ...  ...  ...  ...  ...  ...\n",
       "11284  0.0  0.0  1.0  0.0  0.0  0.0  0.0  0.0  0.0  0.0\n",
       "44732  0.0  0.0  0.0  0.0  0.0  0.0  0.0  0.0  0.0  1.0\n",
       "38158  0.0  0.0  0.0  0.0  0.0  0.0  0.0  1.0  0.0  0.0\n",
       "860    1.0  0.0  0.0  0.0  0.0  0.0  0.0  0.0  0.0  0.0\n",
       "15795  0.0  0.0  0.0  1.0  0.0  0.0  0.0  0.0  0.0  0.0\n",
       "\n",
       "[34643 rows x 10 columns]"
      ]
     },
     "execution_count": 98,
     "metadata": {},
     "output_type": "execute_result"
    }
   ],
   "source": [
    "y_train_"
   ]
  },
  {
   "cell_type": "code",
   "execution_count": 99,
   "metadata": {},
   "outputs": [
    {
     "data": {
      "text/plain": [
       "((34643, 1024), (34643, 10))"
      ]
     },
     "execution_count": 99,
     "metadata": {},
     "output_type": "execute_result"
    }
   ],
   "source": [
    "X_train_.shape, y_train_.shape"
   ]
  },
  {
   "cell_type": "markdown",
   "metadata": {},
   "source": [
    "# ################# RandomForestClassifier \\################# "
   ]
  },
  {
   "cell_type": "markdown",
   "metadata": {},
   "source": [
    "# Multi-label "
   ]
  },
  {
   "cell_type": "markdown",
   "metadata": {},
   "source": [
    "#### variation of max feature PARAMS "
   ]
  },
  {
   "cell_type": "code",
   "execution_count": null,
   "metadata": {},
   "outputs": [],
   "source": [
    "training_scoring_max_features=[]\n",
    "testing_scoring_max_features=[]\n",
    "#features=[]\n",
    "for max_feature in np.arange(1,X_train_.shape[1],200):\n",
    "    max_feature = 500\n",
    "    model_randomForest = RandomForestClassifier(min_samples_split = 5, class_weight='balanced',n_estimators=100,\n",
    "                                                max_features=max_feature, criterion='gini')\n",
    "\n",
    "    #X_train.shape , y_train.shape\n",
    "    rm_clf = MultiOutputClassifier(model_randomForest, n_jobs=-1)\n",
    "    rm_clf.fit(X_train_,y_train_)\n",
    "    score_testing = rm_clf.score(X_test_,y_test_)\n",
    "    score_training = rm_clf.score(X_train_, y_train_)\n",
    "    training_scoring.append(score_training)\n",
    "    testing_scoring.append(score_testing)\n",
    "    features.append(max_feature)\n",
    "    print(\"finished\")"
   ]
  },
  {
   "cell_type": "code",
   "execution_count": 108,
   "metadata": {},
   "outputs": [
    {
     "data": {
      "text/plain": [
       "<matplotlib.legend.Legend at 0x7f4cefeaa790>"
      ]
     },
     "execution_count": 108,
     "metadata": {},
     "output_type": "execute_result"
    },
    {
     "data": {
      "image/png": "[encoded data removed]",
      "text/plain": [
       "<Figure size 432x288 with 1 Axes>"
      ]
     },
     "metadata": {
      "needs_background": "light"
     },
     "output_type": "display_data"
    }
   ],
   "source": [
    "plt.plot(features, testing_scoring, label='testing')\n",
    "plt.plot(features, training_scoring, label='training')\n",
    "plt.xlabel(\"variation of max_features params\")\n",
    "plt.ylabel(\"Score\")\n",
    "plt.legend()"
   ]
  },
  {
   "cell_type": "code",
   "execution_count": 110,
   "metadata": {},
   "outputs": [
    {
     "data": {
      "text/plain": [
       "(0.9993938169327137, 0.3312453694349027)"
      ]
     },
     "execution_count": 110,
     "metadata": {},
     "output_type": "execute_result"
    }
   ],
   "source": [
    "model_randomForest = RandomForestClassifier(min_samples_split = 5, class_weight='balanced',n_estimators=100,\n",
    "                                            max_features=1000, criterion='gini')\n",
    "\n",
    "#X_train.shape , y_train.shape\n",
    "rm_clf = MultiOutputClassifier(model_randomForest, n_jobs=-1)\n",
    "rm_clf.fit(X_train_,y_train_)\n",
    "score_testing = rm_clf.score(X_test_,y_test_)\n",
    "score_training = rm_clf.score(X_train_, y_train_)\n",
    "score_training, score_testing"
   ]
  },
  {
   "cell_type": "code",
   "execution_count": null,
   "metadata": {},
   "outputs": [],
   "source": [
    "\"training scores for variation max_features:\\n\",training_scoring"
   ]
  },
  {
   "cell_type": "code",
   "execution_count": null,
   "metadata": {},
   "outputs": [],
   "source": [
    "\"testing scores for variation max_features:\\n\",testing_scoring"
   ]
  },
  {
   "cell_type": "markdown",
   "metadata": {},
   "source": [
    "##### variation of MAX_DEPTH PARAMS"
   ]
  },
  {
   "cell_type": "code",
   "execution_count": 114,
   "metadata": {},
   "outputs": [
    {
     "data": {
      "text/plain": [
       "'finished'"
      ]
     },
     "execution_count": 114,
     "metadata": {},
     "output_type": "execute_result"
    }
   ],
   "source": [
    "training_scoring_max_depth=[]\n",
    "testing_scoring_max_depth=[]\n",
    "deep_values=[]\n",
    "for depth in range(2,20,4):\n",
    "    model_randomForest = RandomForestClassifier(min_samples_split = 5, class_weight='balanced',n_estimators=100,\n",
    "                              max_features='auto',criterion='gini', max_depth=depth)\n",
    "\n",
    "    #X_train.shape , y_train.shape\n",
    "    rm_clf = MultiOutputClassifier(model_randomForest, n_jobs=-1)\n",
    "    rm_clf.fit(X_train_,y_train_)\n",
    "    score_testing = rm_clf.score(X_test_,y_test_)\n",
    "    score_training = rm_clf.score(X_train_, y_train_)\n",
    "    training_scoring_max_depth.append(score_training)\n",
    "    testing_scoring_max_depth.append(score_testing)\n",
    "    deep_values.append(depth)\n",
    "    print(\"depth: \",depth)"
   ]
  },
  {
   "cell_type": "code",
   "execution_count": 103,
   "metadata": {},
   "outputs": [
    {
     "data": {
      "text/plain": [
       "[0.0028577201743497965,\n",
       " 0.061022428773489595,\n",
       " 0.42375082989348495,\n",
       " 0.6809745114453136,\n",
       " 0.7910111710879543]"
      ]
     },
     "execution_count": 103,
     "metadata": {},
     "output_type": "execute_result"
    }
   ],
   "source": [
    "\"training scores for variation max_depth:\\n\",training_scoring"
   ]
  },
  {
   "cell_type": "code",
   "execution_count": null,
   "metadata": {},
   "outputs": [],
   "source": [
    "\"testing scores for variation max_depth:\\n\",testing_scoring"
   ]
  },
  {
   "cell_type": "code",
   "execution_count": 104,
   "metadata": {},
   "outputs": [
    {
     "data": {
      "text/plain": [
       "<matplotlib.legend.Legend at 0x7f4d0cd2b970>"
      ]
     },
     "execution_count": 104,
     "metadata": {},
     "output_type": "execute_result"
    },
    {
     "data": {
      "image/png": "[encoded data removed]",
      "text/plain": [
       "<Figure size 432x288 with 1 Axes>"
      ]
     },
     "metadata": {
      "needs_background": "light"
     },
     "output_type": "display_data"
    }
   ],
   "source": [
    "plt.plot(deep_values, testing_scoring, label='testing')\n",
    "plt.plot(deep_values, training_scoring, label='training')\n",
    "plt.xlabel(\"variation of max_depth params\")\n",
    "plt.ylabel(\"Score\")\n",
    "plt.legend()"
   ]
  },
  {
   "cell_type": "code",
   "execution_count": 115,
   "metadata": {},
   "outputs": [
    {
     "data": {
      "text/plain": [
       "(0.7721040325606905,\n",
       " 0.22704923553579848,\n",
       " array([0.19974022, 0.19021504, 0.19526627, 0.1823037 , 0.19515012]))"
      ]
     },
     "execution_count": 115,
     "metadata": {},
     "output_type": "execute_result"
    }
   ],
   "source": [
    "model_randomForest = RandomForestClassifier(min_samples_split = 5, class_weight='balanced',n_estimators=100,\n",
    "                              max_features='auto',criterion='gini', max_depth=20)\n",
    "cv_result = cross_val_score(model_randomForest, X_train_, y_train_, cv=5)\n",
    "#X_train.shape , y_train.shape\n",
    "model_randomForest.fit(X_train_,y_train_)\n",
    "score_testing = model_randomForest.score(X_test_,y_test_)\n",
    "score_training = model_randomForest.score(X_train_, y_train_)\n",
    "score_training, score_testing, cv_result"
   ]
  },
  {
   "cell_type": "markdown",
   "metadata": {},
   "source": [
    "### report"
   ]
  },
  {
   "cell_type": "code",
   "execution_count": 116,
   "metadata": {},
   "outputs": [
    {
     "name": "stdout",
     "output_type": "stream",
     "text": [
      "rapport: \n",
      "               precision    recall  f1-score   support\n",
      "\n",
      "           0       0.98      0.63      0.77      4949\n",
      "           1       1.00      0.67      0.81      4949\n",
      "           2       1.00      0.50      0.67      4949\n",
      "           3       1.00      0.59      0.74      4949\n",
      "           4       1.00      0.50      0.66      4949\n",
      "           5       1.00      0.58      0.74      4949\n",
      "           6       1.00      0.60      0.75      4949\n",
      "           7       1.00      0.63      0.77      4949\n",
      "           8       0.99      0.68      0.80      4949\n",
      "           9       0.99      0.70      0.82      4949\n",
      "\n",
      "   micro avg       1.00      0.61      0.76     49490\n",
      "   macro avg       1.00      0.61      0.75     49490\n",
      "weighted avg       1.00      0.61      0.75     49490\n",
      " samples avg       0.61      0.61      0.61     49490\n",
      "\n"
     ]
    }
   ],
   "source": [
    "from sklearn.metrics import confusion_matrix, classification_report\n",
    "print (\"rapport: \\n\",classification_report(training_y, model_randomForest.predict(training_X)))"
   ]
  },
  {
   "cell_type": "code",
   "execution_count": 356,
   "metadata": {},
   "outputs": [
    {
     "data": {
      "text/html": [
       "<div>\n",
       "<style scoped>\n",
       "    .dataframe tbody tr th:only-of-type {\n",
       "        vertical-align: middle;\n",
       "    }\n",
       "\n",
       "    .dataframe tbody tr th {\n",
       "        vertical-align: top;\n",
       "    }\n",
       "\n",
       "    .dataframe thead th {\n",
       "        text-align: right;\n",
       "    }\n",
       "</style>\n",
       "<table border=\"1\" class=\"dataframe\">\n",
       "  <thead>\n",
       "    <tr style=\"text-align: right;\">\n",
       "      <th></th>\n",
       "      <th>0</th>\n",
       "      <th>1</th>\n",
       "      <th>2</th>\n",
       "      <th>3</th>\n",
       "      <th>4</th>\n",
       "      <th>5</th>\n",
       "      <th>6</th>\n",
       "      <th>7</th>\n",
       "      <th>8</th>\n",
       "      <th>9</th>\n",
       "    </tr>\n",
       "  </thead>\n",
       "  <tbody>\n",
       "    <tr>\n",
       "      <th>2</th>\n",
       "      <td>1.0</td>\n",
       "      <td>0.0</td>\n",
       "      <td>0.0</td>\n",
       "      <td>0.0</td>\n",
       "      <td>0.0</td>\n",
       "      <td>0.0</td>\n",
       "      <td>0.0</td>\n",
       "      <td>0.0</td>\n",
       "      <td>0.0</td>\n",
       "      <td>0.0</td>\n",
       "    </tr>\n",
       "    <tr>\n",
       "      <th>4</th>\n",
       "      <td>0.0</td>\n",
       "      <td>0.0</td>\n",
       "      <td>0.0</td>\n",
       "      <td>0.0</td>\n",
       "      <td>0.0</td>\n",
       "      <td>0.0</td>\n",
       "      <td>0.0</td>\n",
       "      <td>0.0</td>\n",
       "      <td>1.0</td>\n",
       "      <td>0.0</td>\n",
       "    </tr>\n",
       "    <tr>\n",
       "      <th>29</th>\n",
       "      <td>1.0</td>\n",
       "      <td>0.0</td>\n",
       "      <td>0.0</td>\n",
       "      <td>0.0</td>\n",
       "      <td>0.0</td>\n",
       "      <td>0.0</td>\n",
       "      <td>0.0</td>\n",
       "      <td>0.0</td>\n",
       "      <td>0.0</td>\n",
       "      <td>0.0</td>\n",
       "    </tr>\n",
       "    <tr>\n",
       "      <th>33</th>\n",
       "      <td>0.0</td>\n",
       "      <td>0.0</td>\n",
       "      <td>0.0</td>\n",
       "      <td>0.0</td>\n",
       "      <td>0.0</td>\n",
       "      <td>0.0</td>\n",
       "      <td>0.0</td>\n",
       "      <td>0.0</td>\n",
       "      <td>1.0</td>\n",
       "      <td>0.0</td>\n",
       "    </tr>\n",
       "    <tr>\n",
       "      <th>34</th>\n",
       "      <td>1.0</td>\n",
       "      <td>0.0</td>\n",
       "      <td>0.0</td>\n",
       "      <td>0.0</td>\n",
       "      <td>0.0</td>\n",
       "      <td>0.0</td>\n",
       "      <td>0.0</td>\n",
       "      <td>0.0</td>\n",
       "      <td>0.0</td>\n",
       "      <td>0.0</td>\n",
       "    </tr>\n",
       "    <tr>\n",
       "      <th>...</th>\n",
       "      <td>...</td>\n",
       "      <td>...</td>\n",
       "      <td>...</td>\n",
       "      <td>...</td>\n",
       "      <td>...</td>\n",
       "      <td>...</td>\n",
       "      <td>...</td>\n",
       "      <td>...</td>\n",
       "      <td>...</td>\n",
       "      <td>...</td>\n",
       "    </tr>\n",
       "    <tr>\n",
       "      <th>9948</th>\n",
       "      <td>0.0</td>\n",
       "      <td>0.0</td>\n",
       "      <td>0.0</td>\n",
       "      <td>0.0</td>\n",
       "      <td>0.0</td>\n",
       "      <td>0.0</td>\n",
       "      <td>0.0</td>\n",
       "      <td>0.0</td>\n",
       "      <td>0.0</td>\n",
       "      <td>1.0</td>\n",
       "    </tr>\n",
       "    <tr>\n",
       "      <th>9956</th>\n",
       "      <td>0.0</td>\n",
       "      <td>0.0</td>\n",
       "      <td>0.0</td>\n",
       "      <td>0.0</td>\n",
       "      <td>0.0</td>\n",
       "      <td>0.0</td>\n",
       "      <td>0.0</td>\n",
       "      <td>1.0</td>\n",
       "      <td>0.0</td>\n",
       "      <td>0.0</td>\n",
       "    </tr>\n",
       "    <tr>\n",
       "      <th>9968</th>\n",
       "      <td>0.0</td>\n",
       "      <td>0.0</td>\n",
       "      <td>0.0</td>\n",
       "      <td>0.0</td>\n",
       "      <td>0.0</td>\n",
       "      <td>0.0</td>\n",
       "      <td>0.0</td>\n",
       "      <td>0.0</td>\n",
       "      <td>0.0</td>\n",
       "      <td>1.0</td>\n",
       "    </tr>\n",
       "    <tr>\n",
       "      <th>9981</th>\n",
       "      <td>0.0</td>\n",
       "      <td>0.0</td>\n",
       "      <td>0.0</td>\n",
       "      <td>0.0</td>\n",
       "      <td>0.0</td>\n",
       "      <td>0.0</td>\n",
       "      <td>0.0</td>\n",
       "      <td>0.0</td>\n",
       "      <td>0.0</td>\n",
       "      <td>1.0</td>\n",
       "    </tr>\n",
       "    <tr>\n",
       "      <th>9999</th>\n",
       "      <td>0.0</td>\n",
       "      <td>0.0</td>\n",
       "      <td>0.0</td>\n",
       "      <td>0.0</td>\n",
       "      <td>0.0</td>\n",
       "      <td>0.0</td>\n",
       "      <td>0.0</td>\n",
       "      <td>0.0</td>\n",
       "      <td>0.0</td>\n",
       "      <td>1.0</td>\n",
       "    </tr>\n",
       "  </tbody>\n",
       "</table>\n",
       "<p>614 rows × 10 columns</p>\n",
       "</div>"
      ],
      "text/plain": [
       "        0    1    2    3    4    5    6    7    8    9\n",
       "2     1.0  0.0  0.0  0.0  0.0  0.0  0.0  0.0  0.0  0.0\n",
       "4     0.0  0.0  0.0  0.0  0.0  0.0  0.0  0.0  1.0  0.0\n",
       "29    1.0  0.0  0.0  0.0  0.0  0.0  0.0  0.0  0.0  0.0\n",
       "33    0.0  0.0  0.0  0.0  0.0  0.0  0.0  0.0  1.0  0.0\n",
       "34    1.0  0.0  0.0  0.0  0.0  0.0  0.0  0.0  0.0  0.0\n",
       "...   ...  ...  ...  ...  ...  ...  ...  ...  ...  ...\n",
       "9948  0.0  0.0  0.0  0.0  0.0  0.0  0.0  0.0  0.0  1.0\n",
       "9956  0.0  0.0  0.0  0.0  0.0  0.0  0.0  1.0  0.0  0.0\n",
       "9968  0.0  0.0  0.0  0.0  0.0  0.0  0.0  0.0  0.0  1.0\n",
       "9981  0.0  0.0  0.0  0.0  0.0  0.0  0.0  0.0  0.0  1.0\n",
       "9999  0.0  0.0  0.0  0.0  0.0  0.0  0.0  0.0  0.0  1.0\n",
       "\n",
       "[614 rows x 10 columns]"
      ]
     },
     "execution_count": 356,
     "metadata": {},
     "output_type": "execute_result"
    }
   ],
   "source": [
    "#df = df.drop(df[<some boolean condition>].index)\n",
    "output = out_test.loc[(out_test.sum(axis=1) != 0)]\n",
    "output"
   ]
  },
  {
   "cell_type": "markdown",
   "metadata": {},
   "source": [
    "## Random FOREST with uni-label "
   ]
  },
  {
   "cell_type": "code",
   "execution_count": 170,
   "metadata": {},
   "outputs": [
    {
     "name": "stdout",
     "output_type": "stream",
     "text": [
      "depth:  2\n",
      "depth:  7\n",
      "depth:  12\n",
      "depth:  17\n",
      "depth:  22\n",
      "depth:  27\n",
      "depth:  32\n",
      "depth:  37\n",
      "depth:  42\n",
      "depth:  47\n",
      "depth:  52\n",
      "depth:  57\n",
      "depth:  62\n",
      "depth:  67\n",
      "depth:  72\n",
      "depth:  77\n",
      "depth:  82\n",
      "depth:  87\n",
      "depth:  92\n",
      "depth:  97\n"
     ]
    }
   ],
   "source": [
    "training_scoring_max_depth=[]\n",
    "testing_scoring_max_depth=[]\n",
    "deep_values=[]\n",
    "for depth in range(2,100,5):\n",
    "    rm_clf = RandomForestClassifier(min_samples_split = 5, class_weight='balanced',n_estimators=100,\n",
    "                              max_features='auto',criterion='gini', max_depth=depth)\n",
    "\n",
    "    #X_train.shape , y_train.shape\n",
    "    rm_clf.fit(X_train__,y_train__)\n",
    "    score_testing = rm_clf.score(X_test__,y_test__)\n",
    "    score_training = rm_clf.score(X_train__, y_train__)\n",
    "    training_scoring_max_depth.append(score_training)\n",
    "    testing_scoring_max_depth.append(score_testing)\n",
    "    deep_values.append(depth)\n",
    "    print(\"depth: \",depth)"
   ]
  },
  {
   "cell_type": "code",
   "execution_count": 166,
   "metadata": {},
   "outputs": [
    {
     "data": {
      "text/plain": [
       "('training scores for variation max_depth:\\n',\n",
       " [0.9992494876309789, 0.9992494876309789])"
      ]
     },
     "execution_count": 166,
     "metadata": {},
     "output_type": "execute_result"
    }
   ],
   "source": [
    "\"training scores for variation max_depth:\\n\",training_scoring"
   ]
  },
  {
   "cell_type": "code",
   "execution_count": 167,
   "metadata": {},
   "outputs": [
    {
     "data": {
      "text/plain": [
       "('testing scores for variation max_depth:\\n',\n",
       " [0.30888394961945176, 0.3439078601737725])"
      ]
     },
     "execution_count": 167,
     "metadata": {},
     "output_type": "execute_result"
    }
   ],
   "source": [
    "\"testing scores for variation max_depth:\\n\",testing_scoring"
   ]
  },
  {
   "cell_type": "code",
   "execution_count": 169,
   "metadata": {},
   "outputs": [
    {
     "data": {
      "text/plain": [
       "<matplotlib.legend.Legend at 0x7f4d1de653d0>"
      ]
     },
     "execution_count": 169,
     "metadata": {},
     "output_type": "execute_result"
    },
    {
     "data": {
      "image/png": "[encoded data removed]",
      "text/plain": [
       "<Figure size 432x288 with 1 Axes>"
      ]
     },
     "metadata": {
      "needs_background": "light"
     },
     "output_type": "display_data"
    }
   ],
   "source": [
    "plt.plot(deep_values, testing_scoring_max_depth, label='testing')\n",
    "plt.plot(deep_values, training_scoring_max_depth, label='training')\n",
    "plt.xlabel(\"variation of max_depth params\")\n",
    "plt.ylabel(\"Score\")\n",
    "plt.legend()"
   ]
  },
  {
   "cell_type": "markdown",
   "metadata": {},
   "source": [
    "#### Remarque:   learning curve commence a se stabiliser a partir de max_depth=18  (on confirme ça par la suite)"
   ]
  },
  {
   "cell_type": "code",
   "execution_count": 178,
   "metadata": {},
   "outputs": [
    {
     "data": {
      "text/plain": [
       "<matplotlib.legend.Legend at 0x7f4d1dcebb20>"
      ]
     },
     "execution_count": 178,
     "metadata": {},
     "output_type": "execute_result"
    },
    {
     "data": {
      "image/png": "[encoded data removed]",
      "text/plain": [
       "<Figure size 432x288 with 1 Axes>"
      ]
     },
     "metadata": {
      "needs_background": "light"
     },
     "output_type": "display_data"
    }
   ],
   "source": [
    "plt.plot(deep_values, testing_scoring_max_depth, label='testing')\n",
    "plt.plot(deep_values, training_scoring_max_depth, label='training')\n",
    "plt.xlabel(\"variation of max_depth params\")\n",
    "plt.ylabel(\"Score\")\n",
    "plt.legend()"
   ]
  },
  {
   "cell_type": "markdown",
   "metadata": {},
   "source": [
    "##### Choosing configuration"
   ]
  },
  {
   "cell_type": "code",
   "execution_count": 151,
   "metadata": {},
   "outputs": [
    {
     "data": {
      "text/plain": [
       "(0.9947464134168519,\n",
       " 0.5689364854852832,\n",
       " array([0.53037956, 0.51969981, 0.53701833, 0.52886836, 0.53911663]))"
      ]
     },
     "execution_count": 151,
     "metadata": {},
     "output_type": "execute_result"
    }
   ],
   "source": [
    "model_randomForest = RandomForestClassifier(min_samples_split = 5, class_weight='balanced',n_estimators=100,\n",
    "                              max_features='auto',criterion='gini', max_depth=20)\n",
    "cv_result = cross_val_score(model_randomForest, X_train__, y_train__, cv=5)\n",
    "#X_train.shape , y_train.shape\n",
    "model_randomForest.fit(X_train__,y_train__)\n",
    "score_testing = model_randomForest.score(X_test__,y_test__)\n",
    "score_training = model_randomForest.score(X_train__, y_train__)\n",
    "score_training, score_testing, cv_result"
   ]
  },
  {
   "cell_type": "code",
   "execution_count": 153,
   "metadata": {},
   "outputs": [
    {
     "name": "stdout",
     "output_type": "stream",
     "text": [
      "rapport: \n",
      "               precision    recall  f1-score   support\n",
      "\n",
      "         0.0       0.63      0.56      0.59      1514\n",
      "         1.0       0.62      0.61      0.62      1511\n",
      "         2.0       0.52      0.50      0.51      1470\n",
      "         3.0       0.56      0.43      0.48      1469\n",
      "         4.0       0.48      0.54      0.51      1479\n",
      "         5.0       0.54      0.52      0.53      1462\n",
      "         6.0       0.56      0.60      0.58      1536\n",
      "         7.0       0.62      0.59      0.60      1465\n",
      "         8.0       0.61      0.67      0.64      1462\n",
      "         9.0       0.57      0.67      0.61      1479\n",
      "\n",
      "    accuracy                           0.57     14847\n",
      "   macro avg       0.57      0.57      0.57     14847\n",
      "weighted avg       0.57      0.57      0.57     14847\n",
      "\n"
     ]
    }
   ],
   "source": [
    "from sklearn.metrics import confusion_matrix, classification_report\n",
    "print (\"rapport: \\n\",classification_report(y_test__, model_randomForest.predict(X_test__)))"
   ]
  },
  {
   "cell_type": "code",
   "execution_count": 154,
   "metadata": {},
   "outputs": [
    {
     "data": {
      "text/html": [
       "<div>\n",
       "<style scoped>\n",
       "    .dataframe tbody tr th:only-of-type {\n",
       "        vertical-align: middle;\n",
       "    }\n",
       "\n",
       "    .dataframe tbody tr th {\n",
       "        vertical-align: top;\n",
       "    }\n",
       "\n",
       "    .dataframe thead th {\n",
       "        text-align: right;\n",
       "    }\n",
       "</style>\n",
       "<table border=\"1\" class=\"dataframe\">\n",
       "  <thead>\n",
       "    <tr style=\"text-align: right;\">\n",
       "      <th></th>\n",
       "      <th>0</th>\n",
       "    </tr>\n",
       "  </thead>\n",
       "  <tbody>\n",
       "    <tr>\n",
       "      <th>0</th>\n",
       "      <td>6.0</td>\n",
       "    </tr>\n",
       "    <tr>\n",
       "      <th>1</th>\n",
       "      <td>2.0</td>\n",
       "    </tr>\n",
       "    <tr>\n",
       "      <th>2</th>\n",
       "      <td>6.0</td>\n",
       "    </tr>\n",
       "    <tr>\n",
       "      <th>3</th>\n",
       "      <td>0.0</td>\n",
       "    </tr>\n",
       "    <tr>\n",
       "      <th>4</th>\n",
       "      <td>1.0</td>\n",
       "    </tr>\n",
       "    <tr>\n",
       "      <th>...</th>\n",
       "      <td>...</td>\n",
       "    </tr>\n",
       "    <tr>\n",
       "      <th>14842</th>\n",
       "      <td>7.0</td>\n",
       "    </tr>\n",
       "    <tr>\n",
       "      <th>14843</th>\n",
       "      <td>9.0</td>\n",
       "    </tr>\n",
       "    <tr>\n",
       "      <th>14844</th>\n",
       "      <td>8.0</td>\n",
       "    </tr>\n",
       "    <tr>\n",
       "      <th>14845</th>\n",
       "      <td>6.0</td>\n",
       "    </tr>\n",
       "    <tr>\n",
       "      <th>14846</th>\n",
       "      <td>6.0</td>\n",
       "    </tr>\n",
       "  </tbody>\n",
       "</table>\n",
       "<p>14847 rows × 1 columns</p>\n",
       "</div>"
      ],
      "text/plain": [
       "         0\n",
       "0      6.0\n",
       "1      2.0\n",
       "2      6.0\n",
       "3      0.0\n",
       "4      1.0\n",
       "...    ...\n",
       "14842  7.0\n",
       "14843  9.0\n",
       "14844  8.0\n",
       "14845  6.0\n",
       "14846  6.0\n",
       "\n",
       "[14847 rows x 1 columns]"
      ]
     },
     "execution_count": 154,
     "metadata": {},
     "output_type": "execute_result"
    }
   ],
   "source": [
    "out_test = pd.DataFrame(model_randomForest.predict(X_test__))\n",
    "out_test"
   ]
  },
  {
   "cell_type": "code",
   "execution_count": 352,
   "metadata": {},
   "outputs": [
    {
     "data": {
      "text/plain": [
       "(614, (10000, 10))"
      ]
     },
     "execution_count": 352,
     "metadata": {},
     "output_type": "execute_result"
    }
   ],
   "source": [
    "\"\"\"\n",
    "output.iloc[0].sum()\n",
    "cpt=0\n",
    "for i in range(out_test.shape[0]):\n",
    "    if out_test.iloc[i].sum()==0:\n",
    "        out_test = out_test.drop()\n",
    "cpt, out_test.shape\n",
    "\"\"\""
   ]
  },
  {
   "cell_type": "code",
   "execution_count": 86,
   "metadata": {},
   "outputs": [],
   "source": [
    "#predicted = one_hot_encoder.inverse_transform(testing_y)\n",
    "#predicted = one_hot_encoder.inverse_transform(out_test)\n",
    "#predicted[0] , y_test[0]"
   ]
  },
  {
   "cell_type": "markdown",
   "metadata": {},
   "source": [
    "## Confusion matrix "
   ]
  },
  {
   "cell_type": "code",
   "execution_count": 159,
   "metadata": {},
   "outputs": [
    {
     "data": {
      "text/html": [
       "<div>\n",
       "<style scoped>\n",
       "    .dataframe tbody tr th:only-of-type {\n",
       "        vertical-align: middle;\n",
       "    }\n",
       "\n",
       "    .dataframe tbody tr th {\n",
       "        vertical-align: top;\n",
       "    }\n",
       "\n",
       "    .dataframe thead th {\n",
       "        text-align: right;\n",
       "    }\n",
       "</style>\n",
       "<table border=\"1\" class=\"dataframe\">\n",
       "  <thead>\n",
       "    <tr style=\"text-align: right;\">\n",
       "      <th></th>\n",
       "      <th>0</th>\n",
       "    </tr>\n",
       "  </thead>\n",
       "  <tbody>\n",
       "    <tr>\n",
       "      <th>0</th>\n",
       "      <td>6.0</td>\n",
       "    </tr>\n",
       "    <tr>\n",
       "      <th>1</th>\n",
       "      <td>2.0</td>\n",
       "    </tr>\n",
       "    <tr>\n",
       "      <th>2</th>\n",
       "      <td>6.0</td>\n",
       "    </tr>\n",
       "    <tr>\n",
       "      <th>3</th>\n",
       "      <td>0.0</td>\n",
       "    </tr>\n",
       "    <tr>\n",
       "      <th>4</th>\n",
       "      <td>1.0</td>\n",
       "    </tr>\n",
       "    <tr>\n",
       "      <th>...</th>\n",
       "      <td>...</td>\n",
       "    </tr>\n",
       "    <tr>\n",
       "      <th>14842</th>\n",
       "      <td>7.0</td>\n",
       "    </tr>\n",
       "    <tr>\n",
       "      <th>14843</th>\n",
       "      <td>9.0</td>\n",
       "    </tr>\n",
       "    <tr>\n",
       "      <th>14844</th>\n",
       "      <td>8.0</td>\n",
       "    </tr>\n",
       "    <tr>\n",
       "      <th>14845</th>\n",
       "      <td>6.0</td>\n",
       "    </tr>\n",
       "    <tr>\n",
       "      <th>14846</th>\n",
       "      <td>6.0</td>\n",
       "    </tr>\n",
       "  </tbody>\n",
       "</table>\n",
       "<p>14847 rows × 1 columns</p>\n",
       "</div>"
      ],
      "text/plain": [
       "         0\n",
       "0      6.0\n",
       "1      2.0\n",
       "2      6.0\n",
       "3      0.0\n",
       "4      1.0\n",
       "...    ...\n",
       "14842  7.0\n",
       "14843  9.0\n",
       "14844  8.0\n",
       "14845  6.0\n",
       "14846  6.0\n",
       "\n",
       "[14847 rows x 1 columns]"
      ]
     },
     "execution_count": 159,
     "metadata": {},
     "output_type": "execute_result"
    }
   ],
   "source": [
    "out_test"
   ]
  },
  {
   "cell_type": "code",
   "execution_count": 160,
   "metadata": {},
   "outputs": [
    {
     "name": "stdout",
     "output_type": "stream",
     "text": [
      "-----------------K-nearest neighbors Report---------------\n",
      "Confusion matrix: \n",
      " [[0.63283582 0.03066667 0.07102672 0.01955556 0.05467801 0.01862464\n",
      "  0.03270745 0.03669065 0.13016656 0.03701595]\n",
      " [0.02164179 0.618      0.01195499 0.02577778 0.0255164  0.02722063\n",
      "  0.04239855 0.03956835 0.04873535 0.12813212]\n",
      " [0.07686567 0.026      0.51898734 0.06755556 0.09295261 0.04799427\n",
      "  0.08298001 0.04172662 0.03331277 0.02562642]\n",
      " [0.03656716 0.04266667 0.06329114 0.55733333 0.06743621 0.13825215\n",
      "  0.08176863 0.05251799 0.02837754 0.04612756]\n",
      " [0.05298507 0.014      0.12728551 0.04355556 0.4835966  0.03939828\n",
      "  0.07692308 0.06330935 0.03454658 0.01993166]\n",
      " [0.04552239 0.03666667 0.0625879  0.112      0.05528554 0.54083095\n",
      "  0.05511811 0.06834532 0.0203578  0.03758542]\n",
      " [0.02686567 0.04466667 0.0625879  0.06666667 0.09599028 0.06160458\n",
      "  0.55542096 0.02661871 0.01542258 0.0261959 ]\n",
      " [0.02462687 0.02933333 0.04289733 0.05422222 0.08201701 0.05730659\n",
      "  0.02725621 0.62014388 0.02652684 0.05751708]\n",
      " [0.05522388 0.04933333 0.02039381 0.02577778 0.02673147 0.0508596\n",
      "  0.01756511 0.02230216 0.60641579 0.05580866]\n",
      " [0.02686567 0.10866667 0.01898734 0.02755556 0.01579587 0.01790831\n",
      "  0.0278619  0.02877698 0.05613819 0.56605923]]\n",
      "Plotting confusion matrix\n"
     ]
    },
    {
     "data": {
      "image/png": "[encoded data removed]",
      "text/plain": [
       "<Figure size 1152x864 with 2 Axes>"
      ]
     },
     "metadata": {
      "needs_background": "light"
     },
     "output_type": "display_data"
    }
   ],
   "source": [
    "#rf_cm = confusion_matrix(list(pd.DataFrame(output_pred)[0]), list(pd.DataFrame(output_pred)[0]), normalize='pred')\n",
    "rf_cm = confusion_matrix(y_test__, model_randomForest.predict(X_test__), normalize='pred')\n",
    "print(\"-----------------K-nearest neighbors Report---------------\")\n",
    "print(\"Confusion matrix: \\n\", rf_cm)\n",
    "print('Plotting confusion matrix')\n",
    "\n",
    "#plt.figure()\n",
    "plt.ion()\n",
    "plt.figure(1, figsize=(16, 12))\n",
    "plot_confusion_matrix(rf_cm, labels_name)\n",
    "plt.show()"
   ]
  },
  {
   "cell_type": "code",
   "execution_count": null,
   "metadata": {},
   "outputs": [],
   "source": []
  },
  {
   "cell_type": "code",
   "execution_count": null,
   "metadata": {},
   "outputs": [],
   "source": []
  },
  {
   "cell_type": "markdown",
   "metadata": {},
   "source": [
    "# ################# NAIVE BAYSE \\################# "
   ]
  },
  {
   "cell_type": "code",
   "execution_count": 136,
   "metadata": {},
   "outputs": [],
   "source": [
    "from sklearn.model_selection import train_test_split\n",
    "# for multi_labels\n",
    "X_train_, X_test_, y_train_, y_test_ = train_test_split(training_X, training_y, test_size=0.3, shuffle=True, random_state=42)\n",
    "# for uni_labels\n",
    "X_train__, X_test__, y_train__, y_test__ = train_test_split(training_X, y_train, test_size=0.3, shuffle=True, random_state=42)"
   ]
  },
  {
   "cell_type": "code",
   "execution_count": 128,
   "metadata": {},
   "outputs": [],
   "source": [
    "# using classifier chains\n",
    "from skmultilearn.problem_transform import ClassifierChain, BinaryRelevance, LabelPowerset\n",
    "from sklearn.naive_bayes import GaussianNB\n",
    "from sklearn.metrics import accuracy_score"
   ]
  },
  {
   "cell_type": "markdown",
   "metadata": {},
   "source": [
    "# GaussianNB on uni label data "
   ]
  },
  {
   "cell_type": "code",
   "execution_count": 129,
   "metadata": {},
   "outputs": [
    {
     "data": {
      "text/plain": [
       "0.26544082979726547"
      ]
     },
     "execution_count": 129,
     "metadata": {},
     "output_type": "execute_result"
    }
   ],
   "source": [
    "gnb_clf0 = GaussianNB()\n",
    "gnb_clf0.fit(X_train__,y_train__)\n",
    "pred = gnb_clf0.predict(X_test__)\n",
    "accuracy_score(y_test__,pred)"
   ]
  },
  {
   "cell_type": "markdown",
   "metadata": {},
   "source": [
    "# GaussianNB on Multi-label data "
   ]
  },
  {
   "cell_type": "markdown",
   "metadata": {},
   "source": [
    "## Multi-label "
   ]
  },
  {
   "cell_type": "code",
   "execution_count": 144,
   "metadata": {},
   "outputs": [
    {
     "data": {
      "text/plain": [
       "(0.17025084432641516, 0.17417660133360274, 0.005657708628005658)"
      ]
     },
     "execution_count": 144,
     "metadata": {},
     "output_type": "execute_result"
    }
   ],
   "source": [
    "gnb_clf2 = BinaryRelevance(GaussianNB())\n",
    "gnb_clf2.fit(X_train_,y_train_)\n",
    "pred = gnb_clf2.predict(X_test_)\n",
    "accuarcy = accuracy_score(y_test_,pred)\n",
    "score_testing = gnb_clf1.score(X_test_,y_test_)\n",
    "score_training = gnb_clf1.score(X_train_, y_train_)\n",
    "score_training, score_testing, accuarcy"
   ]
  },
  {
   "cell_type": "code",
   "execution_count": 145,
   "metadata": {},
   "outputs": [
    {
     "data": {
      "text/plain": [
       "(0.17025084432641516, 0.17417660133360274, 0.26544082979726547)"
      ]
     },
     "execution_count": 145,
     "metadata": {},
     "output_type": "execute_result"
    }
   ],
   "source": [
    "gnb_clf3 = LabelPowerset(GaussianNB())\n",
    "gnb_clf3.fit(X_train_,y_train_)\n",
    "pred = gnb_clf3.predict(X_test_)\n",
    "accuarcy = accuracy_score(y_test_,pred)\n",
    "score_testing = gnb_clf1.score(X_test_,y_test_)\n",
    "score_training = gnb_clf1.score(X_train_, y_train_)\n",
    "score_training, score_testing, accuarcy"
   ]
  },
  {
   "cell_type": "markdown",
   "metadata": {},
   "source": [
    "## Uni-label "
   ]
  },
  {
   "cell_type": "code",
   "execution_count": 138,
   "metadata": {},
   "outputs": [
    {
     "data": {
      "text/plain": [
       "0.17417660133360274"
      ]
     },
     "execution_count": 138,
     "metadata": {},
     "output_type": "execute_result"
    }
   ],
   "source": [
    "gnb_clf1 = ClassifierChain(GaussianNB())\n",
    "gnb_clf1.fit(X_train_,y_train_)\n",
    "pred = gnb_clf1.predict(X_test_)\n",
    "accuracy_score(y_test_,pred)"
   ]
  },
  {
   "cell_type": "code",
   "execution_count": 139,
   "metadata": {},
   "outputs": [],
   "source": [
    "score_testing = gnb_clf1.score(X_test_,y_test_)\n",
    "score_training = gnb_clf1.score(X_train_, y_train_)"
   ]
  },
  {
   "cell_type": "code",
   "execution_count": 141,
   "metadata": {},
   "outputs": [
    {
     "data": {
      "text/plain": [
       "(0.17025084432641516, 0.17417660133360274)"
      ]
     },
     "execution_count": 141,
     "metadata": {},
     "output_type": "execute_result"
    }
   ],
   "source": [
    "score_training, score_testing"
   ]
  },
  {
   "cell_type": "code",
   "execution_count": 175,
   "metadata": {},
   "outputs": [
    {
     "name": "stdout",
     "output_type": "stream",
     "text": [
      "rapport: \n",
      "               precision    recall  f1-score   support\n",
      "\n",
      "           0       0.25      0.45      0.32      1514\n",
      "           1       0.35      0.10      0.15      1511\n",
      "           2       0.16      0.07      0.10      1470\n",
      "           3       0.22      0.06      0.10      1469\n",
      "           4       0.22      0.40      0.28      1479\n",
      "           5       0.27      0.23      0.25      1462\n",
      "           6       0.23      0.43      0.30      1536\n",
      "           7       0.42      0.11      0.18      1465\n",
      "           8       0.32      0.39      0.35      1462\n",
      "           9       0.37      0.40      0.39      1479\n",
      "\n",
      "   micro avg       0.27      0.27      0.27     14847\n",
      "   macro avg       0.28      0.26      0.24     14847\n",
      "weighted avg       0.28      0.27      0.24     14847\n",
      " samples avg       0.27      0.27      0.27     14847\n",
      "\n"
     ]
    }
   ],
   "source": [
    "print (\"rapport: \\n\",classification_report(y_test_, gnb_clf3.predict(X_test_)))"
   ]
  },
  {
   "cell_type": "markdown",
   "metadata": {},
   "source": [
    "# ################# Logistic regression \\################# "
   ]
  },
  {
   "cell_type": "markdown",
   "metadata": {},
   "source": [
    "# Multi-label "
   ]
  },
  {
   "cell_type": "code",
   "execution_count": 148,
   "metadata": {},
   "outputs": [
    {
     "data": {
      "text/plain": [
       "(0.0698553820396617, 0.05698120832491412)"
      ]
     },
     "execution_count": 148,
     "metadata": {},
     "output_type": "execute_result"
    }
   ],
   "source": [
    "from sklearn.linear_model import LogisticRegression\n",
    "\n",
    "lr_clf = LogisticRegression(C = 50, random_state=42)\n",
    "lr_clf = MultiOutputClassifier(lr_clf, n_jobs=-1)\n",
    "#clf = Pipeline([('preprocessor', preprocessor),('smt', smt),('lor',lor)])\n",
    "lr_clf.fit(X_train_,y_train_)\n",
    "score_testing = lr_clf.score(X_test_,y_test_)\n",
    "score_training = lr_clf.score(X_train_, y_train_)\n",
    "score_training, score_testing"
   ]
  },
  {
   "cell_type": "markdown",
   "metadata": {},
   "source": [
    "# uni-label"
   ]
  },
  {
   "cell_type": "code",
   "execution_count": 162,
   "metadata": {},
   "outputs": [
    {
     "data": {
      "text/plain": [
       "(0.34171405478740297, 0.3141375362025999)"
      ]
     },
     "execution_count": 162,
     "metadata": {},
     "output_type": "execute_result"
    }
   ],
   "source": [
    "from sklearn.linear_model import LogisticRegression\n",
    "\n",
    "lr_clf = LogisticRegression(C = 50, random_state=42)\n",
    "#lr_clf = MultiOutputClassifier(lr_clf, n_jobs=-1)\n",
    "lr_clf.fit(X_train__,y_train__)\n",
    "score_testing = lr_clf.score(X_test__,y_test__)\n",
    "score_training = lr_clf.score(X_train__, y_train__)\n",
    "score_training, score_testing"
   ]
  },
  {
   "cell_type": "code",
   "execution_count": 171,
   "metadata": {},
   "outputs": [
    {
     "name": "stdout",
     "output_type": "stream",
     "text": [
      "rapport: \n",
      "               precision    recall  f1-score   support\n",
      "\n",
      "         0.0       0.35      0.36      0.36      1514\n",
      "         1.0       0.38      0.40      0.39      1511\n",
      "         2.0       0.25      0.20      0.22      1470\n",
      "         3.0       0.22      0.14      0.17      1469\n",
      "         4.0       0.26      0.23      0.24      1479\n",
      "         5.0       0.27      0.30      0.29      1462\n",
      "         6.0       0.30      0.31      0.30      1536\n",
      "         7.0       0.30      0.32      0.31      1465\n",
      "         8.0       0.34      0.40      0.37      1462\n",
      "         9.0       0.40      0.48      0.43      1479\n",
      "\n",
      "    accuracy                           0.31     14847\n",
      "   macro avg       0.31      0.31      0.31     14847\n",
      "weighted avg       0.31      0.31      0.31     14847\n",
      "\n"
     ]
    }
   ],
   "source": [
    "print (\"rapport: \\n\",classification_report(y_test__, lr_clf.predict(X_test__)))"
   ]
  },
  {
   "cell_type": "code",
   "execution_count": 163,
   "metadata": {},
   "outputs": [
    {
     "name": "stdout",
     "output_type": "stream",
     "text": [
      "-----------------K-nearest neighbors Report---------------\n",
      "Confusion matrix: \n",
      " [[0.63283582 0.03066667 0.07102672 0.01955556 0.05467801 0.01862464\n",
      "  0.03270745 0.03669065 0.13016656 0.03701595]\n",
      " [0.02164179 0.618      0.01195499 0.02577778 0.0255164  0.02722063\n",
      "  0.04239855 0.03956835 0.04873535 0.12813212]\n",
      " [0.07686567 0.026      0.51898734 0.06755556 0.09295261 0.04799427\n",
      "  0.08298001 0.04172662 0.03331277 0.02562642]\n",
      " [0.03656716 0.04266667 0.06329114 0.55733333 0.06743621 0.13825215\n",
      "  0.08176863 0.05251799 0.02837754 0.04612756]\n",
      " [0.05298507 0.014      0.12728551 0.04355556 0.4835966  0.03939828\n",
      "  0.07692308 0.06330935 0.03454658 0.01993166]\n",
      " [0.04552239 0.03666667 0.0625879  0.112      0.05528554 0.54083095\n",
      "  0.05511811 0.06834532 0.0203578  0.03758542]\n",
      " [0.02686567 0.04466667 0.0625879  0.06666667 0.09599028 0.06160458\n",
      "  0.55542096 0.02661871 0.01542258 0.0261959 ]\n",
      " [0.02462687 0.02933333 0.04289733 0.05422222 0.08201701 0.05730659\n",
      "  0.02725621 0.62014388 0.02652684 0.05751708]\n",
      " [0.05522388 0.04933333 0.02039381 0.02577778 0.02673147 0.0508596\n",
      "  0.01756511 0.02230216 0.60641579 0.05580866]\n",
      " [0.02686567 0.10866667 0.01898734 0.02755556 0.01579587 0.01790831\n",
      "  0.0278619  0.02877698 0.05613819 0.56605923]]\n",
      "Plotting confusion matrix\n"
     ]
    },
    {
     "data": {
      "image/png": "[encoded data removed]",
      "text/plain": [
       "<Figure size 1152x864 with 2 Axes>"
      ]
     },
     "metadata": {
      "needs_background": "light"
     },
     "output_type": "display_data"
    }
   ],
   "source": [
    "#rf_cm = confusion_matrix(list(pd.DataFrame(output_pred)[0]), list(pd.DataFrame(output_pred)[0]), normalize='pred')\n",
    "lr_cm = confusion_matrix(y_test__, lr_clf.predict(X_test__), normalize='pred')\n",
    "print(\"-----------------K-nearest neighbors Report---------------\")\n",
    "print(\"Confusion matrix: \\n\", rf_cm)\n",
    "print('Plotting confusion matrix')\n",
    "\n",
    "plt.ion()\n",
    "plt.figure(1, figsize=(16, 12))\n",
    "plot_confusion_matrix(lr_cm, labels_name)\n",
    "plt.show()"
   ]
  }
 ],
 "metadata": {
  "kernelspec": {
   "display_name": "Python 3",
   "language": "python",
   "name": "python3"
  },
  "language_info": {
   "codemirror_mode": {
    "name": "ipython",
    "version": 3
   },
   "file_extension": ".py",
   "mimetype": "text/x-python",
   "name": "python",
   "nbconvert_exporter": "python",
   "pygments_lexer": "ipython3",
   "version": "3.8.3"
  }
 },
 "nbformat": 4,
 "nbformat_minor": 4
}
